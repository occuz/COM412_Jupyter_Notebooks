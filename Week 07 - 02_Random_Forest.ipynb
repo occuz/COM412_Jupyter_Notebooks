{
  "cells": [
    {
      "cell_type": "markdown",
      "metadata": {
        "id": "aaN5DDwBRGIG"
      },
      "source": [
        "# Lesson 3 - Random forest from scratch\n",
        "\n",
        "> A walkthrough on how to write a Random Forest classifier from scratch."
      ]
    },
    {
      "cell_type": "markdown",
      "metadata": {
        "id": "YXd90u-vRGII"
      },
      "source": [
        "[![Binder](https://mybinder.org/badge_logo.svg)](https://mybinder.org/v2/gh/lewtun/hepml/master?urlpath=lab/tree/notebooks%2Flesson03_random-forest-from-scratch.ipynb) [![Open In Colab](https://colab.research.google.com/assets/colab-badge.svg)](https://colab.research.google.com/github/lewtun/hepml/blob/master/notebooks/lesson03_random-forest-from-scratch.ipynb)"
      ]
    },
    {
      "cell_type": "markdown",
      "metadata": {
        "id": "Vt64zHFFRGIJ"
      },
      "source": [
        "## Learning objectives\n",
        "\n",
        "* Gain an in-depth understanding on how Random Forests work under the hood\n",
        "* Understand the basics of object-oriented-programming (OOP) in Python\n",
        "* Gain an introduction to computational complexity and the steps one can take to optimise an algorithm for speed"
      ]
    },
    {
      "cell_type": "markdown",
      "metadata": {
        "id": "lt35KVdkRGIJ"
      },
      "source": [
        "## References"
      ]
    },
    {
      "cell_type": "markdown",
      "metadata": {
        "id": "J103nn-URGIK"
      },
      "source": [
        "This lesson adapts the implementation for regression trees from\n",
        "\n",
        "* Lessons 5 & 7 from Jeremy Howard's [_Practical Machine Learning for Coders_](http://course18.fast.ai/ml.html) course\n",
        "\n",
        "to binary classificaion tasks. You may also find the following references useful for conceptual understanding:\n",
        "\n",
        "* [_Machine Learning Recipes #8_](https://www.youtube.com/watch?time_continue=492&v=LDRbO9a6XPU&feature=emb_logo) by Josh Gordon\n",
        "* [A visual introduction to machine learning](http://www.r2d3.us/visual-intro-to-machine-learning-part-1/) by Stephanie Yee and Tony Chu\n",
        "* [_Object-Oriented Programming (OOP) in Python 3_](https://realpython.com/python3-object-oriented-programming/) by Real Python"
      ]
    },
    {
      "cell_type": "markdown",
      "metadata": {
        "id": "K_zJf-XtRGIK"
      },
      "source": [
        "## The data\n",
        "\n",
        "We will continue to use the [SUSY dataset](http://archive.ics.uci.edu/ml/datasets/SUSY#) from lesson 1, but this time using a random sample of 100,000 events:\n",
        "\n",
        "* `susy_sample.feather`\n"
      ]
    },
    {
      "cell_type": "markdown",
      "metadata": {
        "id": "fCeHGI5zRGIK"
      },
      "source": [
        "## Import libraries"
      ]
    },
    {
      "cell_type": "code",
      "execution_count": null,
      "metadata": {
        "id": "3TOC8w9fRGIL"
      },
      "outputs": [],
      "source": [
        "# reload modules before executing user code\n",
        "%load_ext autoreload\n",
        "# reload all modules every time before executing Python code\n",
        "%autoreload 2\n",
        "# render plots in notebook\n",
        "%matplotlib inline"
      ]
    },
    {
      "cell_type": "code",
      "execution_count": null,
      "metadata": {
        "id": "AbM1W7jsRGIM",
        "outputId": "49f0fcf9-b2e5-4b08-e319-7a556e8b8f30",
        "colab": {
          "base_uri": "https://localhost:8080/"
        }
      },
      "outputs": [
        {
          "output_type": "stream",
          "name": "stdout",
          "text": [
            "Collecting hepml\n",
            "  Downloading hepml-0.0.12-py3-none-any.whl (25 kB)\n",
            "Requirement already satisfied: scikit-learn in /usr/local/lib/python3.10/dist-packages (from hepml) (1.2.2)\n",
            "Requirement already satisfied: pandas in /usr/local/lib/python3.10/dist-packages (from hepml) (1.5.3)\n",
            "Requirement already satisfied: numpy in /usr/local/lib/python3.10/dist-packages (from hepml) (1.23.5)\n",
            "Requirement already satisfied: seaborn in /usr/local/lib/python3.10/dist-packages (from hepml) (0.13.1)\n",
            "Collecting black (from hepml)\n",
            "  Downloading black-24.1.1-cp310-cp310-manylinux_2_17_x86_64.manylinux2014_x86_64.whl (1.7 MB)\n",
            "\u001b[2K     \u001b[90m━━━━━━━━━━━━━━━━━━━━━━━━━━━━━━━━━━━━━━━━\u001b[0m \u001b[32m1.7/1.7 MB\u001b[0m \u001b[31m15.1 MB/s\u001b[0m eta \u001b[36m0:00:00\u001b[0m\n",
            "\u001b[?25hRequirement already satisfied: tqdm in /usr/local/lib/python3.10/dist-packages (from hepml) (4.66.1)\n",
            "Collecting wget (from hepml)\n",
            "  Downloading wget-3.2.zip (10 kB)\n",
            "  Preparing metadata (setup.py) ... \u001b[?25l\u001b[?25hdone\n",
            "Collecting nbdev (from hepml)\n",
            "  Downloading nbdev-2.3.13-py3-none-any.whl (66 kB)\n",
            "\u001b[2K     \u001b[90m━━━━━━━━━━━━━━━━━━━━━━━━━━━━━━━━━━━━━━━━\u001b[0m \u001b[32m66.1/66.1 kB\u001b[0m \u001b[31m8.2 MB/s\u001b[0m eta \u001b[36m0:00:00\u001b[0m\n",
            "\u001b[?25hRequirement already satisfied: sklearn-pandas in /usr/local/lib/python3.10/dist-packages (from hepml) (2.2.0)\n",
            "Requirement already satisfied: graphviz in /usr/local/lib/python3.10/dist-packages (from hepml) (0.20.1)\n",
            "Requirement already satisfied: gdown in /usr/local/lib/python3.10/dist-packages (from hepml) (4.7.3)\n",
            "Requirement already satisfied: pyarrow in /usr/local/lib/python3.10/dist-packages (from hepml) (10.0.1)\n",
            "Requirement already satisfied: numba in /usr/local/lib/python3.10/dist-packages (from hepml) (0.58.1)\n",
            "Requirement already satisfied: Cython in /usr/local/lib/python3.10/dist-packages (from hepml) (3.0.8)\n",
            "Requirement already satisfied: fastprogress in /usr/local/lib/python3.10/dist-packages (from hepml) (1.0.3)\n",
            "Collecting giotto-tda (from hepml)\n",
            "  Downloading giotto_tda-0.6.0-cp310-cp310-manylinux_2_17_x86_64.manylinux2014_x86_64.whl (1.3 MB)\n",
            "\u001b[2K     \u001b[90m━━━━━━━━━━━━━━━━━━━━━━━━━━━━━━━━━━━━━━━━\u001b[0m \u001b[32m1.3/1.3 MB\u001b[0m \u001b[31m48.6 MB/s\u001b[0m eta \u001b[36m0:00:00\u001b[0m\n",
            "\u001b[?25hRequirement already satisfied: pillow in /usr/local/lib/python3.10/dist-packages (from hepml) (9.4.0)\n",
            "Requirement already satisfied: click>=8.0.0 in /usr/local/lib/python3.10/dist-packages (from black->hepml) (8.1.7)\n",
            "Collecting mypy-extensions>=0.4.3 (from black->hepml)\n",
            "  Downloading mypy_extensions-1.0.0-py3-none-any.whl (4.7 kB)\n",
            "Requirement already satisfied: packaging>=22.0 in /usr/local/lib/python3.10/dist-packages (from black->hepml) (23.2)\n",
            "Collecting pathspec>=0.9.0 (from black->hepml)\n",
            "  Downloading pathspec-0.12.1-py3-none-any.whl (31 kB)\n",
            "Requirement already satisfied: platformdirs>=2 in /usr/local/lib/python3.10/dist-packages (from black->hepml) (4.2.0)\n",
            "Requirement already satisfied: tomli>=1.1.0 in /usr/local/lib/python3.10/dist-packages (from black->hepml) (2.0.1)\n",
            "Requirement already satisfied: typing-extensions>=4.0.1 in /usr/local/lib/python3.10/dist-packages (from black->hepml) (4.9.0)\n",
            "Requirement already satisfied: filelock in /usr/local/lib/python3.10/dist-packages (from gdown->hepml) (3.13.1)\n",
            "Requirement already satisfied: requests[socks] in /usr/local/lib/python3.10/dist-packages (from gdown->hepml) (2.31.0)\n",
            "Requirement already satisfied: six in /usr/local/lib/python3.10/dist-packages (from gdown->hepml) (1.16.0)\n",
            "Requirement already satisfied: beautifulsoup4 in /usr/local/lib/python3.10/dist-packages (from gdown->hepml) (4.12.3)\n",
            "Requirement already satisfied: scipy>=1.5.0 in /usr/local/lib/python3.10/dist-packages (from giotto-tda->hepml) (1.11.4)\n",
            "Requirement already satisfied: joblib>=0.16.0 in /usr/local/lib/python3.10/dist-packages (from giotto-tda->hepml) (1.3.2)\n",
            "Collecting giotto-ph>=0.2.1 (from giotto-tda->hepml)\n",
            "  Downloading giotto_ph-0.2.2-cp310-cp310-manylinux_2_17_x86_64.manylinux2014_x86_64.whl (526 kB)\n",
            "\u001b[2K     \u001b[90m━━━━━━━━━━━━━━━━━━━━━━━━━━━━━━━━━━━━━━━━\u001b[0m \u001b[32m526.4/526.4 kB\u001b[0m \u001b[31m40.4 MB/s\u001b[0m eta \u001b[36m0:00:00\u001b[0m\n",
            "\u001b[?25hCollecting pyflagser>=0.4.3 (from giotto-tda->hepml)\n",
            "  Downloading pyflagser-0.4.5-cp310-cp310-manylinux_2_17_x86_64.manylinux2014_x86_64.whl (452 kB)\n",
            "\u001b[2K     \u001b[90m━━━━━━━━━━━━━━━━━━━━━━━━━━━━━━━━━━━━━━━━\u001b[0m \u001b[32m452.9/452.9 kB\u001b[0m \u001b[31m28.4 MB/s\u001b[0m eta \u001b[36m0:00:00\u001b[0m\n",
            "\u001b[?25hCollecting igraph>=0.9.8 (from giotto-tda->hepml)\n",
            "  Downloading igraph-0.11.3-cp39-abi3-manylinux_2_17_x86_64.manylinux2014_x86_64.whl (3.3 MB)\n",
            "\u001b[2K     \u001b[90m━━━━━━━━━━━━━━━━━━━━━━━━━━━━━━━━━━━━━━━━\u001b[0m \u001b[32m3.3/3.3 MB\u001b[0m \u001b[31m51.6 MB/s\u001b[0m eta \u001b[36m0:00:00\u001b[0m\n",
            "\u001b[?25hRequirement already satisfied: plotly>=4.8.2 in /usr/local/lib/python3.10/dist-packages (from giotto-tda->hepml) (5.15.0)\n",
            "Requirement already satisfied: ipywidgets>=7.5.1 in /usr/local/lib/python3.10/dist-packages (from giotto-tda->hepml) (7.7.1)\n",
            "Requirement already satisfied: threadpoolctl>=2.0.0 in /usr/local/lib/python3.10/dist-packages (from scikit-learn->hepml) (3.2.0)\n",
            "Requirement already satisfied: fastcore>=1.5.27 in /usr/local/lib/python3.10/dist-packages (from nbdev->hepml) (1.5.29)\n",
            "Collecting execnb>=0.1.4 (from nbdev->hepml)\n",
            "  Downloading execnb-0.1.5-py3-none-any.whl (13 kB)\n",
            "Requirement already satisfied: astunparse in /usr/local/lib/python3.10/dist-packages (from nbdev->hepml) (1.6.3)\n",
            "Collecting ghapi>=1.0.3 (from nbdev->hepml)\n",
            "  Downloading ghapi-1.0.4-py3-none-any.whl (58 kB)\n",
            "\u001b[2K     \u001b[90m━━━━━━━━━━━━━━━━━━━━━━━━━━━━━━━━━━━━━━━━\u001b[0m \u001b[32m58.7/58.7 kB\u001b[0m \u001b[31m7.7 MB/s\u001b[0m eta \u001b[36m0:00:00\u001b[0m\n",
            "\u001b[?25hCollecting watchdog (from nbdev->hepml)\n",
            "  Downloading watchdog-4.0.0-py3-none-manylinux2014_x86_64.whl (82 kB)\n",
            "\u001b[2K     \u001b[90m━━━━━━━━━━━━━━━━━━━━━━━━━━━━━━━━━━━━━━━━\u001b[0m \u001b[32m83.0/83.0 kB\u001b[0m \u001b[31m4.5 MB/s\u001b[0m eta \u001b[36m0:00:00\u001b[0m\n",
            "\u001b[?25hCollecting asttokens (from nbdev->hepml)\n",
            "  Downloading asttokens-2.4.1-py2.py3-none-any.whl (27 kB)\n",
            "Requirement already satisfied: PyYAML in /usr/local/lib/python3.10/dist-packages (from nbdev->hepml) (6.0.1)\n",
            "Requirement already satisfied: llvmlite<0.42,>=0.41.0dev0 in /usr/local/lib/python3.10/dist-packages (from numba->hepml) (0.41.1)\n",
            "Requirement already satisfied: python-dateutil>=2.8.1 in /usr/local/lib/python3.10/dist-packages (from pandas->hepml) (2.8.2)\n",
            "Requirement already satisfied: pytz>=2020.1 in /usr/local/lib/python3.10/dist-packages (from pandas->hepml) (2023.4)\n",
            "Requirement already satisfied: matplotlib!=3.6.1,>=3.4 in /usr/local/lib/python3.10/dist-packages (from seaborn->hepml) (3.7.1)\n",
            "Requirement already satisfied: ipython in /usr/local/lib/python3.10/dist-packages (from execnb>=0.1.4->nbdev->hepml) (7.34.0)\n",
            "Requirement already satisfied: pip in /usr/local/lib/python3.10/dist-packages (from fastcore>=1.5.27->nbdev->hepml) (23.1.2)\n",
            "Collecting texttable>=1.6.2 (from igraph>=0.9.8->giotto-tda->hepml)\n",
            "  Downloading texttable-1.7.0-py2.py3-none-any.whl (10 kB)\n",
            "Requirement already satisfied: ipykernel>=4.5.1 in /usr/local/lib/python3.10/dist-packages (from ipywidgets>=7.5.1->giotto-tda->hepml) (5.5.6)\n",
            "Requirement already satisfied: ipython-genutils~=0.2.0 in /usr/local/lib/python3.10/dist-packages (from ipywidgets>=7.5.1->giotto-tda->hepml) (0.2.0)\n",
            "Requirement already satisfied: traitlets>=4.3.1 in /usr/local/lib/python3.10/dist-packages (from ipywidgets>=7.5.1->giotto-tda->hepml) (5.7.1)\n",
            "Requirement already satisfied: widgetsnbextension~=3.6.0 in /usr/local/lib/python3.10/dist-packages (from ipywidgets>=7.5.1->giotto-tda->hepml) (3.6.6)\n",
            "Requirement already satisfied: jupyterlab-widgets>=1.0.0 in /usr/local/lib/python3.10/dist-packages (from ipywidgets>=7.5.1->giotto-tda->hepml) (3.0.9)\n",
            "Requirement already satisfied: contourpy>=1.0.1 in /usr/local/lib/python3.10/dist-packages (from matplotlib!=3.6.1,>=3.4->seaborn->hepml) (1.2.0)\n",
            "Requirement already satisfied: cycler>=0.10 in /usr/local/lib/python3.10/dist-packages (from matplotlib!=3.6.1,>=3.4->seaborn->hepml) (0.12.1)\n",
            "Requirement already satisfied: fonttools>=4.22.0 in /usr/local/lib/python3.10/dist-packages (from matplotlib!=3.6.1,>=3.4->seaborn->hepml) (4.47.2)\n",
            "Requirement already satisfied: kiwisolver>=1.0.1 in /usr/local/lib/python3.10/dist-packages (from matplotlib!=3.6.1,>=3.4->seaborn->hepml) (1.4.5)\n",
            "Requirement already satisfied: pyparsing>=2.3.1 in /usr/local/lib/python3.10/dist-packages (from matplotlib!=3.6.1,>=3.4->seaborn->hepml) (3.1.1)\n",
            "Requirement already satisfied: tenacity>=6.2.0 in /usr/local/lib/python3.10/dist-packages (from plotly>=4.8.2->giotto-tda->hepml) (8.2.3)\n",
            "Requirement already satisfied: wheel<1.0,>=0.23.0 in /usr/local/lib/python3.10/dist-packages (from astunparse->nbdev->hepml) (0.42.0)\n",
            "Requirement already satisfied: soupsieve>1.2 in /usr/local/lib/python3.10/dist-packages (from beautifulsoup4->gdown->hepml) (2.5)\n",
            "Requirement already satisfied: charset-normalizer<4,>=2 in /usr/local/lib/python3.10/dist-packages (from requests[socks]->gdown->hepml) (3.3.2)\n",
            "Requirement already satisfied: idna<4,>=2.5 in /usr/local/lib/python3.10/dist-packages (from requests[socks]->gdown->hepml) (3.6)\n",
            "Requirement already satisfied: urllib3<3,>=1.21.1 in /usr/local/lib/python3.10/dist-packages (from requests[socks]->gdown->hepml) (2.0.7)\n",
            "Requirement already satisfied: certifi>=2017.4.17 in /usr/local/lib/python3.10/dist-packages (from requests[socks]->gdown->hepml) (2024.2.2)\n",
            "Requirement already satisfied: PySocks!=1.5.7,>=1.5.6 in /usr/local/lib/python3.10/dist-packages (from requests[socks]->gdown->hepml) (1.7.1)\n",
            "Requirement already satisfied: jupyter-client in /usr/local/lib/python3.10/dist-packages (from ipykernel>=4.5.1->ipywidgets>=7.5.1->giotto-tda->hepml) (6.1.12)\n",
            "Requirement already satisfied: tornado>=4.2 in /usr/local/lib/python3.10/dist-packages (from ipykernel>=4.5.1->ipywidgets>=7.5.1->giotto-tda->hepml) (6.3.2)\n",
            "Requirement already satisfied: setuptools>=18.5 in /usr/local/lib/python3.10/dist-packages (from ipython->execnb>=0.1.4->nbdev->hepml) (67.7.2)\n",
            "Collecting jedi>=0.16 (from ipython->execnb>=0.1.4->nbdev->hepml)\n",
            "  Downloading jedi-0.19.1-py2.py3-none-any.whl (1.6 MB)\n",
            "\u001b[2K     \u001b[90m━━━━━━━━━━━━━━━━━━━━━━━━━━━━━━━━━━━━━━━━\u001b[0m \u001b[32m1.6/1.6 MB\u001b[0m \u001b[31m35.8 MB/s\u001b[0m eta \u001b[36m0:00:00\u001b[0m\n",
            "\u001b[?25hRequirement already satisfied: decorator in /usr/local/lib/python3.10/dist-packages (from ipython->execnb>=0.1.4->nbdev->hepml) (4.4.2)\n",
            "Requirement already satisfied: pickleshare in /usr/local/lib/python3.10/dist-packages (from ipython->execnb>=0.1.4->nbdev->hepml) (0.7.5)\n",
            "Requirement already satisfied: prompt-toolkit!=3.0.0,!=3.0.1,<3.1.0,>=2.0.0 in /usr/local/lib/python3.10/dist-packages (from ipython->execnb>=0.1.4->nbdev->hepml) (3.0.43)\n",
            "Requirement already satisfied: pygments in /usr/local/lib/python3.10/dist-packages (from ipython->execnb>=0.1.4->nbdev->hepml) (2.16.1)\n",
            "Requirement already satisfied: backcall in /usr/local/lib/python3.10/dist-packages (from ipython->execnb>=0.1.4->nbdev->hepml) (0.2.0)\n",
            "Requirement already satisfied: matplotlib-inline in /usr/local/lib/python3.10/dist-packages (from ipython->execnb>=0.1.4->nbdev->hepml) (0.1.6)\n",
            "Requirement already satisfied: pexpect>4.3 in /usr/local/lib/python3.10/dist-packages (from ipython->execnb>=0.1.4->nbdev->hepml) (4.9.0)\n",
            "Requirement already satisfied: notebook>=4.4.1 in /usr/local/lib/python3.10/dist-packages (from widgetsnbextension~=3.6.0->ipywidgets>=7.5.1->giotto-tda->hepml) (6.5.5)\n",
            "Requirement already satisfied: parso<0.9.0,>=0.8.3 in /usr/local/lib/python3.10/dist-packages (from jedi>=0.16->ipython->execnb>=0.1.4->nbdev->hepml) (0.8.3)\n",
            "Requirement already satisfied: jinja2 in /usr/local/lib/python3.10/dist-packages (from notebook>=4.4.1->widgetsnbextension~=3.6.0->ipywidgets>=7.5.1->giotto-tda->hepml) (3.1.3)\n",
            "Requirement already satisfied: pyzmq<25,>=17 in /usr/local/lib/python3.10/dist-packages (from notebook>=4.4.1->widgetsnbextension~=3.6.0->ipywidgets>=7.5.1->giotto-tda->hepml) (23.2.1)\n",
            "Requirement already satisfied: argon2-cffi in /usr/local/lib/python3.10/dist-packages (from notebook>=4.4.1->widgetsnbextension~=3.6.0->ipywidgets>=7.5.1->giotto-tda->hepml) (23.1.0)\n",
            "Requirement already satisfied: jupyter-core>=4.6.1 in /usr/local/lib/python3.10/dist-packages (from notebook>=4.4.1->widgetsnbextension~=3.6.0->ipywidgets>=7.5.1->giotto-tda->hepml) (5.7.1)\n",
            "Requirement already satisfied: nbformat in /usr/local/lib/python3.10/dist-packages (from notebook>=4.4.1->widgetsnbextension~=3.6.0->ipywidgets>=7.5.1->giotto-tda->hepml) (5.9.2)\n",
            "Requirement already satisfied: nbconvert>=5 in /usr/local/lib/python3.10/dist-packages (from notebook>=4.4.1->widgetsnbextension~=3.6.0->ipywidgets>=7.5.1->giotto-tda->hepml) (6.5.4)\n",
            "Requirement already satisfied: nest-asyncio>=1.5 in /usr/local/lib/python3.10/dist-packages (from notebook>=4.4.1->widgetsnbextension~=3.6.0->ipywidgets>=7.5.1->giotto-tda->hepml) (1.6.0)\n",
            "Requirement already satisfied: Send2Trash>=1.8.0 in /usr/local/lib/python3.10/dist-packages (from notebook>=4.4.1->widgetsnbextension~=3.6.0->ipywidgets>=7.5.1->giotto-tda->hepml) (1.8.2)\n",
            "Requirement already satisfied: terminado>=0.8.3 in /usr/local/lib/python3.10/dist-packages (from notebook>=4.4.1->widgetsnbextension~=3.6.0->ipywidgets>=7.5.1->giotto-tda->hepml) (0.18.0)\n",
            "Requirement already satisfied: prometheus-client in /usr/local/lib/python3.10/dist-packages (from notebook>=4.4.1->widgetsnbextension~=3.6.0->ipywidgets>=7.5.1->giotto-tda->hepml) (0.19.0)\n",
            "Requirement already satisfied: nbclassic>=0.4.7 in /usr/local/lib/python3.10/dist-packages (from notebook>=4.4.1->widgetsnbextension~=3.6.0->ipywidgets>=7.5.1->giotto-tda->hepml) (1.0.0)\n",
            "Requirement already satisfied: ptyprocess>=0.5 in /usr/local/lib/python3.10/dist-packages (from pexpect>4.3->ipython->execnb>=0.1.4->nbdev->hepml) (0.7.0)\n",
            "Requirement already satisfied: wcwidth in /usr/local/lib/python3.10/dist-packages (from prompt-toolkit!=3.0.0,!=3.0.1,<3.1.0,>=2.0.0->ipython->execnb>=0.1.4->nbdev->hepml) (0.2.13)\n",
            "Requirement already satisfied: jupyter-server>=1.8 in /usr/local/lib/python3.10/dist-packages (from nbclassic>=0.4.7->notebook>=4.4.1->widgetsnbextension~=3.6.0->ipywidgets>=7.5.1->giotto-tda->hepml) (1.24.0)\n",
            "Requirement already satisfied: notebook-shim>=0.2.3 in /usr/local/lib/python3.10/dist-packages (from nbclassic>=0.4.7->notebook>=4.4.1->widgetsnbextension~=3.6.0->ipywidgets>=7.5.1->giotto-tda->hepml) (0.2.3)\n",
            "Requirement already satisfied: lxml in /usr/local/lib/python3.10/dist-packages (from nbconvert>=5->notebook>=4.4.1->widgetsnbextension~=3.6.0->ipywidgets>=7.5.1->giotto-tda->hepml) (4.9.4)\n",
            "Requirement already satisfied: bleach in /usr/local/lib/python3.10/dist-packages (from nbconvert>=5->notebook>=4.4.1->widgetsnbextension~=3.6.0->ipywidgets>=7.5.1->giotto-tda->hepml) (6.1.0)\n",
            "Requirement already satisfied: defusedxml in /usr/local/lib/python3.10/dist-packages (from nbconvert>=5->notebook>=4.4.1->widgetsnbextension~=3.6.0->ipywidgets>=7.5.1->giotto-tda->hepml) (0.7.1)\n",
            "Requirement already satisfied: entrypoints>=0.2.2 in /usr/local/lib/python3.10/dist-packages (from nbconvert>=5->notebook>=4.4.1->widgetsnbextension~=3.6.0->ipywidgets>=7.5.1->giotto-tda->hepml) (0.4)\n",
            "Requirement already satisfied: jupyterlab-pygments in /usr/local/lib/python3.10/dist-packages (from nbconvert>=5->notebook>=4.4.1->widgetsnbextension~=3.6.0->ipywidgets>=7.5.1->giotto-tda->hepml) (0.3.0)\n",
            "Requirement already satisfied: MarkupSafe>=2.0 in /usr/local/lib/python3.10/dist-packages (from nbconvert>=5->notebook>=4.4.1->widgetsnbextension~=3.6.0->ipywidgets>=7.5.1->giotto-tda->hepml) (2.1.5)\n",
            "Requirement already satisfied: mistune<2,>=0.8.1 in /usr/local/lib/python3.10/dist-packages (from nbconvert>=5->notebook>=4.4.1->widgetsnbextension~=3.6.0->ipywidgets>=7.5.1->giotto-tda->hepml) (0.8.4)\n",
            "Requirement already satisfied: nbclient>=0.5.0 in /usr/local/lib/python3.10/dist-packages (from nbconvert>=5->notebook>=4.4.1->widgetsnbextension~=3.6.0->ipywidgets>=7.5.1->giotto-tda->hepml) (0.9.0)\n",
            "Requirement already satisfied: pandocfilters>=1.4.1 in /usr/local/lib/python3.10/dist-packages (from nbconvert>=5->notebook>=4.4.1->widgetsnbextension~=3.6.0->ipywidgets>=7.5.1->giotto-tda->hepml) (1.5.1)\n",
            "Requirement already satisfied: tinycss2 in /usr/local/lib/python3.10/dist-packages (from nbconvert>=5->notebook>=4.4.1->widgetsnbextension~=3.6.0->ipywidgets>=7.5.1->giotto-tda->hepml) (1.2.1)\n",
            "Requirement already satisfied: fastjsonschema in /usr/local/lib/python3.10/dist-packages (from nbformat->notebook>=4.4.1->widgetsnbextension~=3.6.0->ipywidgets>=7.5.1->giotto-tda->hepml) (2.19.1)\n",
            "Requirement already satisfied: jsonschema>=2.6 in /usr/local/lib/python3.10/dist-packages (from nbformat->notebook>=4.4.1->widgetsnbextension~=3.6.0->ipywidgets>=7.5.1->giotto-tda->hepml) (4.19.2)\n",
            "Requirement already satisfied: argon2-cffi-bindings in /usr/local/lib/python3.10/dist-packages (from argon2-cffi->notebook>=4.4.1->widgetsnbextension~=3.6.0->ipywidgets>=7.5.1->giotto-tda->hepml) (21.2.0)\n",
            "Requirement already satisfied: attrs>=22.2.0 in /usr/local/lib/python3.10/dist-packages (from jsonschema>=2.6->nbformat->notebook>=4.4.1->widgetsnbextension~=3.6.0->ipywidgets>=7.5.1->giotto-tda->hepml) (23.2.0)\n",
            "Requirement already satisfied: jsonschema-specifications>=2023.03.6 in /usr/local/lib/python3.10/dist-packages (from jsonschema>=2.6->nbformat->notebook>=4.4.1->widgetsnbextension~=3.6.0->ipywidgets>=7.5.1->giotto-tda->hepml) (2023.12.1)\n",
            "Requirement already satisfied: referencing>=0.28.4 in /usr/local/lib/python3.10/dist-packages (from jsonschema>=2.6->nbformat->notebook>=4.4.1->widgetsnbextension~=3.6.0->ipywidgets>=7.5.1->giotto-tda->hepml) (0.33.0)\n",
            "Requirement already satisfied: rpds-py>=0.7.1 in /usr/local/lib/python3.10/dist-packages (from jsonschema>=2.6->nbformat->notebook>=4.4.1->widgetsnbextension~=3.6.0->ipywidgets>=7.5.1->giotto-tda->hepml) (0.17.1)\n",
            "Requirement already satisfied: anyio<4,>=3.1.0 in /usr/local/lib/python3.10/dist-packages (from jupyter-server>=1.8->nbclassic>=0.4.7->notebook>=4.4.1->widgetsnbextension~=3.6.0->ipywidgets>=7.5.1->giotto-tda->hepml) (3.7.1)\n",
            "Requirement already satisfied: websocket-client in /usr/local/lib/python3.10/dist-packages (from jupyter-server>=1.8->nbclassic>=0.4.7->notebook>=4.4.1->widgetsnbextension~=3.6.0->ipywidgets>=7.5.1->giotto-tda->hepml) (1.7.0)\n",
            "Requirement already satisfied: cffi>=1.0.1 in /usr/local/lib/python3.10/dist-packages (from argon2-cffi-bindings->argon2-cffi->notebook>=4.4.1->widgetsnbextension~=3.6.0->ipywidgets>=7.5.1->giotto-tda->hepml) (1.16.0)\n",
            "Requirement already satisfied: webencodings in /usr/local/lib/python3.10/dist-packages (from bleach->nbconvert>=5->notebook>=4.4.1->widgetsnbextension~=3.6.0->ipywidgets>=7.5.1->giotto-tda->hepml) (0.5.1)\n",
            "Requirement already satisfied: sniffio>=1.1 in /usr/local/lib/python3.10/dist-packages (from anyio<4,>=3.1.0->jupyter-server>=1.8->nbclassic>=0.4.7->notebook>=4.4.1->widgetsnbextension~=3.6.0->ipywidgets>=7.5.1->giotto-tda->hepml) (1.3.0)\n",
            "Requirement already satisfied: exceptiongroup in /usr/local/lib/python3.10/dist-packages (from anyio<4,>=3.1.0->jupyter-server>=1.8->nbclassic>=0.4.7->notebook>=4.4.1->widgetsnbextension~=3.6.0->ipywidgets>=7.5.1->giotto-tda->hepml) (1.2.0)\n",
            "Requirement already satisfied: pycparser in /usr/local/lib/python3.10/dist-packages (from cffi>=1.0.1->argon2-cffi-bindings->argon2-cffi->notebook>=4.4.1->widgetsnbextension~=3.6.0->ipywidgets>=7.5.1->giotto-tda->hepml) (2.21)\n",
            "Building wheels for collected packages: wget\n",
            "  Building wheel for wget (setup.py) ... \u001b[?25l\u001b[?25hdone\n",
            "  Created wheel for wget: filename=wget-3.2-py3-none-any.whl size=9655 sha256=efd0e39a30b6d291b38c288adbcbfffeeb21a069f974f3046ebe9d0ba1bae000\n",
            "  Stored in directory: /root/.cache/pip/wheels/8b/f1/7f/5c94f0a7a505ca1c81cd1d9208ae2064675d97582078e6c769\n",
            "Successfully built wget\n",
            "Installing collected packages: wget, texttable, watchdog, pathspec, mypy-extensions, jedi, igraph, asttokens, pyflagser, ghapi, black, giotto-ph, execnb, nbdev, giotto-tda, hepml\n",
            "Successfully installed asttokens-2.4.1 black-24.1.1 execnb-0.1.5 ghapi-1.0.4 giotto-ph-0.2.2 giotto-tda-0.6.0 hepml-0.0.12 igraph-0.11.3 jedi-0.19.1 mypy-extensions-1.0.0 nbdev-2.3.13 pathspec-0.12.1 pyflagser-0.4.5 texttable-1.7.0 watchdog-4.0.0 wget-3.2\n"
          ]
        }
      ],
      "source": [
        "# uncomment this if running locally or on Google Colab\n",
        "!pip install --upgrade hepml"
      ]
    },
    {
      "cell_type": "code",
      "execution_count": null,
      "metadata": {
        "id": "uNtQKqR-RGIN"
      },
      "outputs": [],
      "source": [
        "# data wrangling\n",
        "import pandas as pd\n",
        "import numpy as np\n",
        "from pathlib import Path\n",
        "from hepml.core import display_large, download_dataset\n",
        "\n",
        "# data viz\n",
        "import matplotlib.pyplot as plt\n",
        "from sklearn.tree import plot_tree\n",
        "\n",
        "# ml magic\n",
        "from sklearn.ensemble import RandomForestClassifier\n",
        "from sklearn.model_selection import train_test_split\n",
        "from sklearn.metrics import roc_auc_score"
      ]
    },
    {
      "cell_type": "markdown",
      "metadata": {
        "id": "5XfgUUtjRGIN"
      },
      "source": [
        "## Plan of attack"
      ]
    },
    {
      "cell_type": "markdown",
      "metadata": {
        "id": "GdhKceG8RGIO"
      },
      "source": [
        "<div style=\"text-align: center\">\n",
        "<img src='https://github.com/lewtun/hepml/blob/master/notebooks/images/wtf.jpg?raw=1'>\n",
        "   <p style=\"text-align: center;\"> <b>Figure reference:</b> https://bit.ly/2S7XuJP </p>\n",
        "</div>"
      ]
    },
    {
      "cell_type": "markdown",
      "metadata": {
        "id": "RlKAAt9lRGIO"
      },
      "source": [
        "A good strategy when implementing any algorithm from scratch is to compare against an existing implementation.  This is especially true for machine learning algorithms, where there's many ways to _fail silently_ by introducing bugs in the data manipulation steps that do not throw an error, but result in worse performance in the target metric.\n",
        "\n",
        "To that end, we will use the same sample of 100,000 events from the SUSY dataset that we analysed in lessons 1 and 2, and to simplify the analysis during development we'll start by picking just two features to build our Random Forest on. At each step, we will compare our implementation against scikit-learn's [RandomForestClassifier](https://scikit-learn.org/stable/modules/generated/sklearn.ensemble.RandomForestClassifier.html) as a way of testing the correctness of our code."
      ]
    },
    {
      "cell_type": "markdown",
      "metadata": {
        "id": "G5IZjyOMRGIO"
      },
      "source": [
        "## Load the data"
      ]
    },
    {
      "cell_type": "markdown",
      "metadata": {
        "id": "_NBtmITSRGIP"
      },
      "source": [
        "As usual, we can download our dataset by using our `download_dataset` helper function:"
      ]
    },
    {
      "cell_type": "code",
      "execution_count": null,
      "metadata": {
        "id": "LJXcKEmCRGIP",
        "outputId": "35646616-3df6-4a4a-f241-d5fbab460861",
        "colab": {
          "base_uri": "https://localhost:8080/"
        }
      },
      "outputs": [
        {
          "output_type": "stream",
          "name": "stdout",
          "text": [
            "Download of susy_sample.feather dataset complete.\n"
          ]
        }
      ],
      "source": [
        "download_dataset(\"susy_sample.feather\")"
      ]
    },
    {
      "cell_type": "code",
      "execution_count": null,
      "metadata": {
        "id": "rqzWb83kRGIR",
        "outputId": "d0900f5d-8ef6-42d8-95f0-763e11f86814",
        "colab": {
          "base_uri": "https://localhost:8080/"
        }
      },
      "outputs": [
        {
          "output_type": "stream",
          "name": "stdout",
          "text": [
            "susy_sample.feather\n"
          ]
        }
      ],
      "source": [
        "DATA = Path(\"../data\")\n",
        "!ls {DATA}"
      ]
    },
    {
      "cell_type": "markdown",
      "metadata": {
        "id": "AgpHFr-pRGIR"
      },
      "source": [
        "With pathlib it is a simple matter to define the filepath to the dataset, and since the file is in Feather format we can load it as a `pandas.DataFrame` as follows:"
      ]
    },
    {
      "cell_type": "code",
      "execution_count": null,
      "metadata": {
        "id": "jagOqZoaRGIS",
        "outputId": "23a1983a-5542-4f43-c807-9968d94cfb82",
        "colab": {
          "base_uri": "https://localhost:8080/",
          "height": 261
        }
      },
      "outputs": [
        {
          "output_type": "execute_result",
          "data": {
            "text/plain": [
              "   signal  lepton 1 pT  lepton 1 eta  lepton 1 phi  lepton 2 pT  lepton 2 eta  \\\n",
              "0     1.0     0.821395     -0.103436      0.168752     1.051992      0.431800   \n",
              "1     1.0     0.907188     -1.143420      1.317695     1.299381     -1.839876   \n",
              "2     0.0     0.659807     -1.977303     -1.410509     0.990329     -1.701409   \n",
              "3     0.0     0.720814     -0.863228      0.222717     0.502039      0.472637   \n",
              "4     1.0     0.672261      1.264989     -0.032661     0.560856      0.086291   \n",
              "\n",
              "   lepton 2 phi  missing energy magnitude  missing energy phi   MET_rel  \\\n",
              "0     -1.210648                  0.428240           -1.663188  0.475450   \n",
              "1     -0.160823                  0.988608           -0.829973  1.395849   \n",
              "2      0.249222                  0.499979           -0.509796  0.737884   \n",
              "3     -1.134090                  0.829423           -1.630658  0.984676   \n",
              "4      1.542801                  1.705778            0.219045  1.099387   \n",
              "\n",
              "   axial MET       M_R    M_TR_2         R       MT2       S_R  M_Delta_R  \\\n",
              "0  -0.020242  0.795758  0.704858  0.786029  0.776712  0.792950   0.623655   \n",
              "1  -0.646217  0.963228  1.139413  1.049706  1.399592  1.019565   1.157555   \n",
              "2   0.661397  0.659569  0.609093  0.819481  0.000000  0.671145   0.397877   \n",
              "3  -0.509003  0.685277  0.898880  1.163993  0.885574  0.733956   0.942846   \n",
              "4   2.002287  0.646456  0.835348  1.146685  0.000000  0.692432   0.779301   \n",
              "\n",
              "   dPhi_r_b  cos(theta_r1)  \n",
              "0  0.770409       0.196300  \n",
              "1  1.484495       0.179817  \n",
              "2  1.439343       0.054367  \n",
              "3  1.475507       0.365486  \n",
              "4  1.543818       0.308604  "
            ],
            "text/html": [
              "\n",
              "  <div id=\"df-cc974562-3229-43c2-9720-6c6fbc69b811\" class=\"colab-df-container\">\n",
              "    <div>\n",
              "<style scoped>\n",
              "    .dataframe tbody tr th:only-of-type {\n",
              "        vertical-align: middle;\n",
              "    }\n",
              "\n",
              "    .dataframe tbody tr th {\n",
              "        vertical-align: top;\n",
              "    }\n",
              "\n",
              "    .dataframe thead th {\n",
              "        text-align: right;\n",
              "    }\n",
              "</style>\n",
              "<table border=\"1\" class=\"dataframe\">\n",
              "  <thead>\n",
              "    <tr style=\"text-align: right;\">\n",
              "      <th></th>\n",
              "      <th>signal</th>\n",
              "      <th>lepton 1 pT</th>\n",
              "      <th>lepton 1 eta</th>\n",
              "      <th>lepton 1 phi</th>\n",
              "      <th>lepton 2 pT</th>\n",
              "      <th>lepton 2 eta</th>\n",
              "      <th>lepton 2 phi</th>\n",
              "      <th>missing energy magnitude</th>\n",
              "      <th>missing energy phi</th>\n",
              "      <th>MET_rel</th>\n",
              "      <th>axial MET</th>\n",
              "      <th>M_R</th>\n",
              "      <th>M_TR_2</th>\n",
              "      <th>R</th>\n",
              "      <th>MT2</th>\n",
              "      <th>S_R</th>\n",
              "      <th>M_Delta_R</th>\n",
              "      <th>dPhi_r_b</th>\n",
              "      <th>cos(theta_r1)</th>\n",
              "    </tr>\n",
              "  </thead>\n",
              "  <tbody>\n",
              "    <tr>\n",
              "      <th>0</th>\n",
              "      <td>1.0</td>\n",
              "      <td>0.821395</td>\n",
              "      <td>-0.103436</td>\n",
              "      <td>0.168752</td>\n",
              "      <td>1.051992</td>\n",
              "      <td>0.431800</td>\n",
              "      <td>-1.210648</td>\n",
              "      <td>0.428240</td>\n",
              "      <td>-1.663188</td>\n",
              "      <td>0.475450</td>\n",
              "      <td>-0.020242</td>\n",
              "      <td>0.795758</td>\n",
              "      <td>0.704858</td>\n",
              "      <td>0.786029</td>\n",
              "      <td>0.776712</td>\n",
              "      <td>0.792950</td>\n",
              "      <td>0.623655</td>\n",
              "      <td>0.770409</td>\n",
              "      <td>0.196300</td>\n",
              "    </tr>\n",
              "    <tr>\n",
              "      <th>1</th>\n",
              "      <td>1.0</td>\n",
              "      <td>0.907188</td>\n",
              "      <td>-1.143420</td>\n",
              "      <td>1.317695</td>\n",
              "      <td>1.299381</td>\n",
              "      <td>-1.839876</td>\n",
              "      <td>-0.160823</td>\n",
              "      <td>0.988608</td>\n",
              "      <td>-0.829973</td>\n",
              "      <td>1.395849</td>\n",
              "      <td>-0.646217</td>\n",
              "      <td>0.963228</td>\n",
              "      <td>1.139413</td>\n",
              "      <td>1.049706</td>\n",
              "      <td>1.399592</td>\n",
              "      <td>1.019565</td>\n",
              "      <td>1.157555</td>\n",
              "      <td>1.484495</td>\n",
              "      <td>0.179817</td>\n",
              "    </tr>\n",
              "    <tr>\n",
              "      <th>2</th>\n",
              "      <td>0.0</td>\n",
              "      <td>0.659807</td>\n",
              "      <td>-1.977303</td>\n",
              "      <td>-1.410509</td>\n",
              "      <td>0.990329</td>\n",
              "      <td>-1.701409</td>\n",
              "      <td>0.249222</td>\n",
              "      <td>0.499979</td>\n",
              "      <td>-0.509796</td>\n",
              "      <td>0.737884</td>\n",
              "      <td>0.661397</td>\n",
              "      <td>0.659569</td>\n",
              "      <td>0.609093</td>\n",
              "      <td>0.819481</td>\n",
              "      <td>0.000000</td>\n",
              "      <td>0.671145</td>\n",
              "      <td>0.397877</td>\n",
              "      <td>1.439343</td>\n",
              "      <td>0.054367</td>\n",
              "    </tr>\n",
              "    <tr>\n",
              "      <th>3</th>\n",
              "      <td>0.0</td>\n",
              "      <td>0.720814</td>\n",
              "      <td>-0.863228</td>\n",
              "      <td>0.222717</td>\n",
              "      <td>0.502039</td>\n",
              "      <td>0.472637</td>\n",
              "      <td>-1.134090</td>\n",
              "      <td>0.829423</td>\n",
              "      <td>-1.630658</td>\n",
              "      <td>0.984676</td>\n",
              "      <td>-0.509003</td>\n",
              "      <td>0.685277</td>\n",
              "      <td>0.898880</td>\n",
              "      <td>1.163993</td>\n",
              "      <td>0.885574</td>\n",
              "      <td>0.733956</td>\n",
              "      <td>0.942846</td>\n",
              "      <td>1.475507</td>\n",
              "      <td>0.365486</td>\n",
              "    </tr>\n",
              "    <tr>\n",
              "      <th>4</th>\n",
              "      <td>1.0</td>\n",
              "      <td>0.672261</td>\n",
              "      <td>1.264989</td>\n",
              "      <td>-0.032661</td>\n",
              "      <td>0.560856</td>\n",
              "      <td>0.086291</td>\n",
              "      <td>1.542801</td>\n",
              "      <td>1.705778</td>\n",
              "      <td>0.219045</td>\n",
              "      <td>1.099387</td>\n",
              "      <td>2.002287</td>\n",
              "      <td>0.646456</td>\n",
              "      <td>0.835348</td>\n",
              "      <td>1.146685</td>\n",
              "      <td>0.000000</td>\n",
              "      <td>0.692432</td>\n",
              "      <td>0.779301</td>\n",
              "      <td>1.543818</td>\n",
              "      <td>0.308604</td>\n",
              "    </tr>\n",
              "  </tbody>\n",
              "</table>\n",
              "</div>\n",
              "    <div class=\"colab-df-buttons\">\n",
              "\n",
              "  <div class=\"colab-df-container\">\n",
              "    <button class=\"colab-df-convert\" onclick=\"convertToInteractive('df-cc974562-3229-43c2-9720-6c6fbc69b811')\"\n",
              "            title=\"Convert this dataframe to an interactive table.\"\n",
              "            style=\"display:none;\">\n",
              "\n",
              "  <svg xmlns=\"http://www.w3.org/2000/svg\" height=\"24px\" viewBox=\"0 -960 960 960\">\n",
              "    <path d=\"M120-120v-720h720v720H120Zm60-500h600v-160H180v160Zm220 220h160v-160H400v160Zm0 220h160v-160H400v160ZM180-400h160v-160H180v160Zm440 0h160v-160H620v160ZM180-180h160v-160H180v160Zm440 0h160v-160H620v160Z\"/>\n",
              "  </svg>\n",
              "    </button>\n",
              "\n",
              "  <style>\n",
              "    .colab-df-container {\n",
              "      display:flex;\n",
              "      gap: 12px;\n",
              "    }\n",
              "\n",
              "    .colab-df-convert {\n",
              "      background-color: #E8F0FE;\n",
              "      border: none;\n",
              "      border-radius: 50%;\n",
              "      cursor: pointer;\n",
              "      display: none;\n",
              "      fill: #1967D2;\n",
              "      height: 32px;\n",
              "      padding: 0 0 0 0;\n",
              "      width: 32px;\n",
              "    }\n",
              "\n",
              "    .colab-df-convert:hover {\n",
              "      background-color: #E2EBFA;\n",
              "      box-shadow: 0px 1px 2px rgba(60, 64, 67, 0.3), 0px 1px 3px 1px rgba(60, 64, 67, 0.15);\n",
              "      fill: #174EA6;\n",
              "    }\n",
              "\n",
              "    .colab-df-buttons div {\n",
              "      margin-bottom: 4px;\n",
              "    }\n",
              "\n",
              "    [theme=dark] .colab-df-convert {\n",
              "      background-color: #3B4455;\n",
              "      fill: #D2E3FC;\n",
              "    }\n",
              "\n",
              "    [theme=dark] .colab-df-convert:hover {\n",
              "      background-color: #434B5C;\n",
              "      box-shadow: 0px 1px 3px 1px rgba(0, 0, 0, 0.15);\n",
              "      filter: drop-shadow(0px 1px 2px rgba(0, 0, 0, 0.3));\n",
              "      fill: #FFFFFF;\n",
              "    }\n",
              "  </style>\n",
              "\n",
              "    <script>\n",
              "      const buttonEl =\n",
              "        document.querySelector('#df-cc974562-3229-43c2-9720-6c6fbc69b811 button.colab-df-convert');\n",
              "      buttonEl.style.display =\n",
              "        google.colab.kernel.accessAllowed ? 'block' : 'none';\n",
              "\n",
              "      async function convertToInteractive(key) {\n",
              "        const element = document.querySelector('#df-cc974562-3229-43c2-9720-6c6fbc69b811');\n",
              "        const dataTable =\n",
              "          await google.colab.kernel.invokeFunction('convertToInteractive',\n",
              "                                                    [key], {});\n",
              "        if (!dataTable) return;\n",
              "\n",
              "        const docLinkHtml = 'Like what you see? Visit the ' +\n",
              "          '<a target=\"_blank\" href=https://colab.research.google.com/notebooks/data_table.ipynb>data table notebook</a>'\n",
              "          + ' to learn more about interactive tables.';\n",
              "        element.innerHTML = '';\n",
              "        dataTable['output_type'] = 'display_data';\n",
              "        await google.colab.output.renderOutput(dataTable, element);\n",
              "        const docLink = document.createElement('div');\n",
              "        docLink.innerHTML = docLinkHtml;\n",
              "        element.appendChild(docLink);\n",
              "      }\n",
              "    </script>\n",
              "  </div>\n",
              "\n",
              "\n",
              "<div id=\"df-9cb97cbb-0dde-4ce8-a4f8-dd351f3b8642\">\n",
              "  <button class=\"colab-df-quickchart\" onclick=\"quickchart('df-9cb97cbb-0dde-4ce8-a4f8-dd351f3b8642')\"\n",
              "            title=\"Suggest charts\"\n",
              "            style=\"display:none;\">\n",
              "\n",
              "<svg xmlns=\"http://www.w3.org/2000/svg\" height=\"24px\"viewBox=\"0 0 24 24\"\n",
              "     width=\"24px\">\n",
              "    <g>\n",
              "        <path d=\"M19 3H5c-1.1 0-2 .9-2 2v14c0 1.1.9 2 2 2h14c1.1 0 2-.9 2-2V5c0-1.1-.9-2-2-2zM9 17H7v-7h2v7zm4 0h-2V7h2v10zm4 0h-2v-4h2v4z\"/>\n",
              "    </g>\n",
              "</svg>\n",
              "  </button>\n",
              "\n",
              "<style>\n",
              "  .colab-df-quickchart {\n",
              "      --bg-color: #E8F0FE;\n",
              "      --fill-color: #1967D2;\n",
              "      --hover-bg-color: #E2EBFA;\n",
              "      --hover-fill-color: #174EA6;\n",
              "      --disabled-fill-color: #AAA;\n",
              "      --disabled-bg-color: #DDD;\n",
              "  }\n",
              "\n",
              "  [theme=dark] .colab-df-quickchart {\n",
              "      --bg-color: #3B4455;\n",
              "      --fill-color: #D2E3FC;\n",
              "      --hover-bg-color: #434B5C;\n",
              "      --hover-fill-color: #FFFFFF;\n",
              "      --disabled-bg-color: #3B4455;\n",
              "      --disabled-fill-color: #666;\n",
              "  }\n",
              "\n",
              "  .colab-df-quickchart {\n",
              "    background-color: var(--bg-color);\n",
              "    border: none;\n",
              "    border-radius: 50%;\n",
              "    cursor: pointer;\n",
              "    display: none;\n",
              "    fill: var(--fill-color);\n",
              "    height: 32px;\n",
              "    padding: 0;\n",
              "    width: 32px;\n",
              "  }\n",
              "\n",
              "  .colab-df-quickchart:hover {\n",
              "    background-color: var(--hover-bg-color);\n",
              "    box-shadow: 0 1px 2px rgba(60, 64, 67, 0.3), 0 1px 3px 1px rgba(60, 64, 67, 0.15);\n",
              "    fill: var(--button-hover-fill-color);\n",
              "  }\n",
              "\n",
              "  .colab-df-quickchart-complete:disabled,\n",
              "  .colab-df-quickchart-complete:disabled:hover {\n",
              "    background-color: var(--disabled-bg-color);\n",
              "    fill: var(--disabled-fill-color);\n",
              "    box-shadow: none;\n",
              "  }\n",
              "\n",
              "  .colab-df-spinner {\n",
              "    border: 2px solid var(--fill-color);\n",
              "    border-color: transparent;\n",
              "    border-bottom-color: var(--fill-color);\n",
              "    animation:\n",
              "      spin 1s steps(1) infinite;\n",
              "  }\n",
              "\n",
              "  @keyframes spin {\n",
              "    0% {\n",
              "      border-color: transparent;\n",
              "      border-bottom-color: var(--fill-color);\n",
              "      border-left-color: var(--fill-color);\n",
              "    }\n",
              "    20% {\n",
              "      border-color: transparent;\n",
              "      border-left-color: var(--fill-color);\n",
              "      border-top-color: var(--fill-color);\n",
              "    }\n",
              "    30% {\n",
              "      border-color: transparent;\n",
              "      border-left-color: var(--fill-color);\n",
              "      border-top-color: var(--fill-color);\n",
              "      border-right-color: var(--fill-color);\n",
              "    }\n",
              "    40% {\n",
              "      border-color: transparent;\n",
              "      border-right-color: var(--fill-color);\n",
              "      border-top-color: var(--fill-color);\n",
              "    }\n",
              "    60% {\n",
              "      border-color: transparent;\n",
              "      border-right-color: var(--fill-color);\n",
              "    }\n",
              "    80% {\n",
              "      border-color: transparent;\n",
              "      border-right-color: var(--fill-color);\n",
              "      border-bottom-color: var(--fill-color);\n",
              "    }\n",
              "    90% {\n",
              "      border-color: transparent;\n",
              "      border-bottom-color: var(--fill-color);\n",
              "    }\n",
              "  }\n",
              "</style>\n",
              "\n",
              "  <script>\n",
              "    async function quickchart(key) {\n",
              "      const quickchartButtonEl =\n",
              "        document.querySelector('#' + key + ' button');\n",
              "      quickchartButtonEl.disabled = true;  // To prevent multiple clicks.\n",
              "      quickchartButtonEl.classList.add('colab-df-spinner');\n",
              "      try {\n",
              "        const charts = await google.colab.kernel.invokeFunction(\n",
              "            'suggestCharts', [key], {});\n",
              "      } catch (error) {\n",
              "        console.error('Error during call to suggestCharts:', error);\n",
              "      }\n",
              "      quickchartButtonEl.classList.remove('colab-df-spinner');\n",
              "      quickchartButtonEl.classList.add('colab-df-quickchart-complete');\n",
              "    }\n",
              "    (() => {\n",
              "      let quickchartButtonEl =\n",
              "        document.querySelector('#df-9cb97cbb-0dde-4ce8-a4f8-dd351f3b8642 button');\n",
              "      quickchartButtonEl.style.display =\n",
              "        google.colab.kernel.accessAllowed ? 'block' : 'none';\n",
              "    })();\n",
              "  </script>\n",
              "</div>\n",
              "    </div>\n",
              "  </div>\n"
            ]
          },
          "metadata": {},
          "execution_count": 7
        }
      ],
      "source": [
        "susy_sample = pd.read_feather(DATA / \"susy_sample.feather\")\n",
        "susy_sample.head()"
      ]
    },
    {
      "cell_type": "code",
      "execution_count": null,
      "metadata": {
        "id": "QKBzC9FCRGIS"
      },
      "outputs": [],
      "source": [
        "# sanity check on number of events\n",
        "assert len(susy_sample) == 100_000"
      ]
    },
    {
      "cell_type": "markdown",
      "metadata": {
        "id": "WL4U5AySRGIS"
      },
      "source": [
        "Next we create the feature matrix $X$ and target vector $y$, along with the training and validation sets:"
      ]
    },
    {
      "cell_type": "code",
      "execution_count": null,
      "metadata": {
        "id": "JpGA_hw3RGIS",
        "outputId": "fd8dbff5-83dc-4529-dc92-0e8fe982bef0",
        "colab": {
          "base_uri": "https://localhost:8080/"
        }
      },
      "outputs": [
        {
          "output_type": "stream",
          "name": "stdout",
          "text": [
            "Dataset split: 80000 train rows + 20000 valid rows\n"
          ]
        }
      ],
      "source": [
        "X = susy_sample.drop(\"signal\", axis=1)\n",
        "y = susy_sample[\"signal\"]\n",
        "\n",
        "X_train, X_valid, y_train, y_valid = train_test_split(X, y, test_size=0.2, random_state=42)\n",
        "\n",
        "print(f\"Dataset split: {len(X_train)} train rows + {len(X_valid)} valid rows\")\n",
        "\n",
        "# pick 2 features to experiment with\n",
        "X_train_sub = X_train[[\"missing energy magnitude\", \"lepton 1 pT\"]].copy()\n",
        "X_valid_sub = X_valid[[\"missing energy magnitude\", \"lepton 1 pT\"]].copy()"
      ]
    },
    {
      "cell_type": "markdown",
      "metadata": {
        "id": "fj68tXlDRGIT"
      },
      "source": [
        "## Basic classes and functions"
      ]
    },
    {
      "cell_type": "markdown",
      "metadata": {
        "id": "GrbrDgipRGIT"
      },
      "source": [
        "### Tree ensemble"
      ]
    },
    {
      "cell_type": "markdown",
      "metadata": {
        "id": "6-I1UHiLRGIT"
      },
      "source": [
        "To get started, we need a data structure that will represent an ensemble of decision trees. As a first guess, the variables we'll need to initialise our ensemble might include:\n",
        "\n",
        "* `X`: the feature matrix\n",
        "* `y`: the target vector\n",
        "* `n_trees`: how many trees to include in the forest\n",
        "* `sample_size`: how big we want each sample to be\n",
        "* `min_samples_leaf`: some optional hyperparameter that controls the minimum number of samples required to be at a leaf node\n",
        "\n",
        "With these considerations, let's go ahead and build our ensemble class"
      ]
    },
    {
      "cell_type": "code",
      "execution_count": null,
      "metadata": {
        "id": "_k3QOFG5RGIT"
      },
      "outputs": [],
      "source": [
        "class TreeEnsemble:\n",
        "    # instance attributes\n",
        "    def __init__(\n",
        "        self, X: np.ndarray, y: np.ndarray, n_trees: int, sample_size: int, min_samples_leaf: int = 5,\n",
        "    ):\n",
        "        # use constant random seed for testing\n",
        "        np.random.seed(42)\n",
        "        self.X = X\n",
        "        self.y = y\n",
        "        self.n_trees = n_trees\n",
        "        self.sample_size = sample_size\n",
        "        self.min_samples_leaf = min_samples_leaf\n",
        "\n",
        "        self.trees = [self.create_tree() for i in range(n_trees)]\n",
        "\n",
        "    # instance method\n",
        "    def create_tree(self):\n",
        "        # grab random subsample without replacement - no bootstrapping!\n",
        "        random_indices = np.random.permutation(len(self.y))[: self.sample_size]\n",
        "        return DecisionTree(\n",
        "            self.X.iloc[random_indices], self.y.iloc[random_indices], min_samples_leaf=self.min_samples_leaf,\n",
        "        )\n",
        "\n",
        "    # instance method\n",
        "    def predict(self, X):\n",
        "        return np.mean([t.predict(X) for t in self.trees], axis=0)"
      ]
    },
    {
      "cell_type": "markdown",
      "metadata": {
        "id": "3SVMcDXNRGIT"
      },
      "source": [
        "> Note: All classes in Python create objects, and all objects contain properties called attributes. We use the `__init__()` method to initialize an object’s initial attributes by giving them their default value. This method must have at least one argument as well as the `self` variable, which refers to the object itself (e.g., `TreeEnsemble`)."
      ]
    },
    {
      "cell_type": "markdown",
      "metadata": {
        "id": "HIMKGbMbRGIU"
      },
      "source": [
        "Next let's try to instantiate this class:"
      ]
    },
    {
      "cell_type": "code",
      "execution_count": null,
      "metadata": {
        "id": "YL5wUjfjRGIU",
        "outputId": "68e0e9b5-cb40-4ac3-f322-a5a524775ccb",
        "colab": {
          "base_uri": "https://localhost:8080/",
          "height": 321
        }
      },
      "outputs": [
        {
          "output_type": "error",
          "ename": "NameError",
          "evalue": "name 'DecisionTree' is not defined",
          "traceback": [
            "\u001b[0;31m---------------------------------------------------------------------------\u001b[0m",
            "\u001b[0;31mNameError\u001b[0m                                 Traceback (most recent call last)",
            "\u001b[0;32m<ipython-input-11-1eba575a2685>\u001b[0m in \u001b[0;36m<cell line: 1>\u001b[0;34m()\u001b[0m\n\u001b[0;32m----> 1\u001b[0;31m \u001b[0mrf\u001b[0m \u001b[0;34m=\u001b[0m \u001b[0mTreeEnsemble\u001b[0m\u001b[0;34m(\u001b[0m\u001b[0mX_train_sub\u001b[0m\u001b[0;34m,\u001b[0m \u001b[0my_train\u001b[0m\u001b[0;34m,\u001b[0m \u001b[0mn_trees\u001b[0m\u001b[0;34m=\u001b[0m\u001b[0;36m10\u001b[0m\u001b[0;34m,\u001b[0m \u001b[0msample_size\u001b[0m\u001b[0;34m=\u001b[0m\u001b[0;36m1000\u001b[0m\u001b[0;34m,\u001b[0m \u001b[0mmin_samples_leaf\u001b[0m\u001b[0;34m=\u001b[0m\u001b[0;36m3\u001b[0m\u001b[0;34m)\u001b[0m\u001b[0;34m\u001b[0m\u001b[0;34m\u001b[0m\u001b[0m\n\u001b[0m",
            "\u001b[0;32m<ipython-input-10-35a8ae6ea2ce>\u001b[0m in \u001b[0;36m__init__\u001b[0;34m(self, X, y, n_trees, sample_size, min_samples_leaf)\u001b[0m\n\u001b[1;32m     12\u001b[0m         \u001b[0mself\u001b[0m\u001b[0;34m.\u001b[0m\u001b[0mmin_samples_leaf\u001b[0m \u001b[0;34m=\u001b[0m \u001b[0mmin_samples_leaf\u001b[0m\u001b[0;34m\u001b[0m\u001b[0;34m\u001b[0m\u001b[0m\n\u001b[1;32m     13\u001b[0m \u001b[0;34m\u001b[0m\u001b[0m\n\u001b[0;32m---> 14\u001b[0;31m         \u001b[0mself\u001b[0m\u001b[0;34m.\u001b[0m\u001b[0mtrees\u001b[0m \u001b[0;34m=\u001b[0m \u001b[0;34m[\u001b[0m\u001b[0mself\u001b[0m\u001b[0;34m.\u001b[0m\u001b[0mcreate_tree\u001b[0m\u001b[0;34m(\u001b[0m\u001b[0;34m)\u001b[0m \u001b[0;32mfor\u001b[0m \u001b[0mi\u001b[0m \u001b[0;32min\u001b[0m \u001b[0mrange\u001b[0m\u001b[0;34m(\u001b[0m\u001b[0mn_trees\u001b[0m\u001b[0;34m)\u001b[0m\u001b[0;34m]\u001b[0m\u001b[0;34m\u001b[0m\u001b[0;34m\u001b[0m\u001b[0m\n\u001b[0m\u001b[1;32m     15\u001b[0m \u001b[0;34m\u001b[0m\u001b[0m\n\u001b[1;32m     16\u001b[0m     \u001b[0;31m# instance method\u001b[0m\u001b[0;34m\u001b[0m\u001b[0;34m\u001b[0m\u001b[0m\n",
            "\u001b[0;32m<ipython-input-10-35a8ae6ea2ce>\u001b[0m in \u001b[0;36m<listcomp>\u001b[0;34m(.0)\u001b[0m\n\u001b[1;32m     12\u001b[0m         \u001b[0mself\u001b[0m\u001b[0;34m.\u001b[0m\u001b[0mmin_samples_leaf\u001b[0m \u001b[0;34m=\u001b[0m \u001b[0mmin_samples_leaf\u001b[0m\u001b[0;34m\u001b[0m\u001b[0;34m\u001b[0m\u001b[0m\n\u001b[1;32m     13\u001b[0m \u001b[0;34m\u001b[0m\u001b[0m\n\u001b[0;32m---> 14\u001b[0;31m         \u001b[0mself\u001b[0m\u001b[0;34m.\u001b[0m\u001b[0mtrees\u001b[0m \u001b[0;34m=\u001b[0m \u001b[0;34m[\u001b[0m\u001b[0mself\u001b[0m\u001b[0;34m.\u001b[0m\u001b[0mcreate_tree\u001b[0m\u001b[0;34m(\u001b[0m\u001b[0;34m)\u001b[0m \u001b[0;32mfor\u001b[0m \u001b[0mi\u001b[0m \u001b[0;32min\u001b[0m \u001b[0mrange\u001b[0m\u001b[0;34m(\u001b[0m\u001b[0mn_trees\u001b[0m\u001b[0;34m)\u001b[0m\u001b[0;34m]\u001b[0m\u001b[0;34m\u001b[0m\u001b[0;34m\u001b[0m\u001b[0m\n\u001b[0m\u001b[1;32m     15\u001b[0m \u001b[0;34m\u001b[0m\u001b[0m\n\u001b[1;32m     16\u001b[0m     \u001b[0;31m# instance method\u001b[0m\u001b[0;34m\u001b[0m\u001b[0;34m\u001b[0m\u001b[0m\n",
            "\u001b[0;32m<ipython-input-10-35a8ae6ea2ce>\u001b[0m in \u001b[0;36mcreate_tree\u001b[0;34m(self)\u001b[0m\n\u001b[1;32m     18\u001b[0m         \u001b[0;31m# grab random subsample without replacement - no bootstrapping!\u001b[0m\u001b[0;34m\u001b[0m\u001b[0;34m\u001b[0m\u001b[0m\n\u001b[1;32m     19\u001b[0m         \u001b[0mrandom_indices\u001b[0m \u001b[0;34m=\u001b[0m \u001b[0mnp\u001b[0m\u001b[0;34m.\u001b[0m\u001b[0mrandom\u001b[0m\u001b[0;34m.\u001b[0m\u001b[0mpermutation\u001b[0m\u001b[0;34m(\u001b[0m\u001b[0mlen\u001b[0m\u001b[0;34m(\u001b[0m\u001b[0mself\u001b[0m\u001b[0;34m.\u001b[0m\u001b[0my\u001b[0m\u001b[0;34m)\u001b[0m\u001b[0;34m)\u001b[0m\u001b[0;34m[\u001b[0m\u001b[0;34m:\u001b[0m \u001b[0mself\u001b[0m\u001b[0;34m.\u001b[0m\u001b[0msample_size\u001b[0m\u001b[0;34m]\u001b[0m\u001b[0;34m\u001b[0m\u001b[0;34m\u001b[0m\u001b[0m\n\u001b[0;32m---> 20\u001b[0;31m         return DecisionTree(\n\u001b[0m\u001b[1;32m     21\u001b[0m             \u001b[0mself\u001b[0m\u001b[0;34m.\u001b[0m\u001b[0mX\u001b[0m\u001b[0;34m.\u001b[0m\u001b[0miloc\u001b[0m\u001b[0;34m[\u001b[0m\u001b[0mrandom_indices\u001b[0m\u001b[0;34m]\u001b[0m\u001b[0;34m,\u001b[0m \u001b[0mself\u001b[0m\u001b[0;34m.\u001b[0m\u001b[0my\u001b[0m\u001b[0;34m.\u001b[0m\u001b[0miloc\u001b[0m\u001b[0;34m[\u001b[0m\u001b[0mrandom_indices\u001b[0m\u001b[0;34m]\u001b[0m\u001b[0;34m,\u001b[0m \u001b[0mmin_samples_leaf\u001b[0m\u001b[0;34m=\u001b[0m\u001b[0mself\u001b[0m\u001b[0;34m.\u001b[0m\u001b[0mmin_samples_leaf\u001b[0m\u001b[0;34m,\u001b[0m\u001b[0;34m\u001b[0m\u001b[0;34m\u001b[0m\u001b[0m\n\u001b[1;32m     22\u001b[0m         )\n",
            "\u001b[0;31mNameError\u001b[0m: name 'DecisionTree' is not defined"
          ]
        }
      ],
      "source": [
        "rf = TreeEnsemble(X_train_sub, y_train, n_trees=10, sample_size=1000, min_samples_leaf=3)"
      ]
    },
    {
      "cell_type": "markdown",
      "metadata": {
        "id": "awHB9yM_RGIU"
      },
      "source": [
        "Oops! Our `TreeEnsemble` assumes we have a class called `DecisionTree`, so let's create a minimal version that will allow us to instantiate it:"
      ]
    },
    {
      "cell_type": "code",
      "execution_count": null,
      "metadata": {
        "id": "z07t2jQhRGIV"
      },
      "outputs": [],
      "source": [
        "class DecisionTree:\n",
        "    def __init__(self, X: np.ndarray, y: np.ndarray, indices=None, min_samples_leaf: int = 5):\n",
        "        self.X = X\n",
        "        self.y = y\n",
        "        self.indices = indices\n",
        "        self.min_samples_leaf = min_samples_leaf"
      ]
    },
    {
      "cell_type": "code",
      "execution_count": null,
      "metadata": {
        "id": "VljaHxejRGIV",
        "outputId": "ef27cae5-d692-4dd4-9c09-3bf4cf423a2c",
        "colab": {
          "base_uri": "https://localhost:8080/"
        }
      },
      "outputs": [
        {
          "output_type": "execute_result",
          "data": {
            "text/plain": [
              "[<__main__.DecisionTree at 0x7a826e16ff10>,\n",
              " <__main__.DecisionTree at 0x7a82a5dfa8c0>,\n",
              " <__main__.DecisionTree at 0x7a826d054100>,\n",
              " <__main__.DecisionTree at 0x7a826d0543d0>,\n",
              " <__main__.DecisionTree at 0x7a826d0546a0>,\n",
              " <__main__.DecisionTree at 0x7a826d054970>,\n",
              " <__main__.DecisionTree at 0x7a826d054ca0>,\n",
              " <__main__.DecisionTree at 0x7a826d054fd0>,\n",
              " <__main__.DecisionTree at 0x7a826d055300>,\n",
              " <__main__.DecisionTree at 0x7a826d055630>]"
            ]
          },
          "metadata": {},
          "execution_count": 14
        }
      ],
      "source": [
        "rf = TreeEnsemble(X_train_sub, y_train, n_trees=10, sample_size=1000, min_samples_leaf=3)\n",
        "# test we can access attributes\n",
        "rf.trees"
      ]
    },
    {
      "cell_type": "markdown",
      "metadata": {
        "id": "PyF0pLo8RGIV"
      },
      "source": [
        "### Decision tree"
      ]
    },
    {
      "cell_type": "markdown",
      "metadata": {
        "id": "eke8x24ARGIV"
      },
      "source": [
        "Our `DecisionTree` class doesn't do anything yet, so let's add some logic to flesh it out. In addition to passing `X`, `y`, and `min_samples_leaf` to the constructor, we also need to keep track of which row indices are passed to the left- and right-hand sides of the tree. Since the root node contains all the rows, we can use `None` as a default and set `indices` to the length of `y`:"
      ]
    },
    {
      "cell_type": "code",
      "execution_count": null,
      "metadata": {
        "id": "B0i2xHuiRGIV"
      },
      "outputs": [],
      "source": [
        "class DecisionTree:\n",
        "    def __init__(self, X: np.ndarray, y: np.ndarray, indices: np.ndarray = None, min_samples_leaf: int = 5):\n",
        "        # use all rows for root node\n",
        "        if indices is None:\n",
        "            indices = np.arange(len(y))\n",
        "\n",
        "        self.X = X\n",
        "        self.y = y\n",
        "        self.indices = indices\n",
        "        self.min_samples_leaf = min_samples_leaf\n",
        "\n",
        "        self.n_samples, self.n_features = len(indices), X.shape[1]\n",
        "        self.value = self.calculate_class_probabilities(self.y, self.indices)\n",
        "        self.gini = self.gini_impurity(self.y)\n",
        "        self.score = float(\"inf\")\n",
        "        self.find_feature_split()\n",
        "\n",
        "    # this just does one decision - we'll make it recursive later\n",
        "    def find_feature_split(self):\n",
        "        for i in range(self.n_features):\n",
        "            self.find_better_split(i)\n",
        "\n",
        "    # we'll write this later!\n",
        "    def find_better_split(self, feature_index):\n",
        "        pass\n",
        "\n",
        "    # we'll write this later!\n",
        "    def calculate_class_probabilities(self, y, indices):\n",
        "        pass\n",
        "\n",
        "    # we'll write this later!\n",
        "    def gini_impurity(self, y):\n",
        "        pass\n",
        "\n",
        "    @property\n",
        "    def split_name(self):\n",
        "        return self.X.columns[self.feature_index]\n",
        "\n",
        "    @property\n",
        "    def split_feature(self):\n",
        "        return self.X.values[self.indices, self.feature_index]\n",
        "\n",
        "    @property\n",
        "    def is_leaf(self):\n",
        "        return self.score == float(\"inf\")\n",
        "\n",
        "    # convert object to string - see https://dbader.org/blog/python-repr-vs-str\n",
        "    def __repr__(self):\n",
        "        s = f\"n_samples: {self.n_samples}; value: {self.value}; gini: {self.gini}\"\n",
        "        if not self.is_leaf:\n",
        "            s += f\"; score: {self.score}; feature: {self.split_name}; split_point: {self.split}\"\n",
        "        return s"
      ]
    },
    {
      "cell_type": "markdown",
      "metadata": {
        "id": "-sssYYQbRGIW"
      },
      "source": [
        "Next let's check we can instantiate the ensemble and access the first decision tree:"
      ]
    },
    {
      "cell_type": "code",
      "execution_count": null,
      "metadata": {
        "id": "NK4wvg6ZRGIW",
        "outputId": "ccdc28ef-662c-4cf7-fe79-4d21119a83bc",
        "colab": {
          "base_uri": "https://localhost:8080/"
        }
      },
      "outputs": [
        {
          "output_type": "execute_result",
          "data": {
            "text/plain": [
              "n_samples: 1000; value: None; gini: None"
            ]
          },
          "metadata": {},
          "execution_count": 16
        }
      ],
      "source": [
        "rf = TreeEnsemble(X_train_sub, y_train, n_trees=10, sample_size=1000, min_samples_leaf=3)\n",
        "rf.trees[0]"
      ]
    },
    {
      "cell_type": "markdown",
      "metadata": {
        "id": "cwo2Pt36RGIW"
      },
      "source": [
        "It works! Our `__repr__` method now returns useful information about the attributes of the class instance, but we still need to implement methods for the class probabilities and Gini impurity. Let's consider each one in turn."
      ]
    },
    {
      "cell_type": "markdown",
      "metadata": {
        "id": "pk5HB4WhRGIW"
      },
      "source": [
        "### Class probabilities"
      ]
    },
    {
      "cell_type": "markdown",
      "metadata": {
        "id": "kUAkjwB0RGIf"
      },
      "source": [
        "In order to average the predictions across multiple trees in our forest, we need know what percentage of a given leaf node contains signal events and what percentage contains background. A simple way to do that is via the `np.unique` method, e.g."
      ]
    },
    {
      "cell_type": "code",
      "execution_count": null,
      "metadata": {
        "id": "YjQWDTY2RGIf",
        "outputId": "d6987d82-4d85-4462-f421-732300db2fea",
        "colab": {
          "base_uri": "https://localhost:8080/"
        }
      },
      "outputs": [
        {
          "output_type": "execute_result",
          "data": {
            "text/plain": [
              "(array([0., 1.]), array([43374, 36626]))"
            ]
          },
          "metadata": {},
          "execution_count": 17
        }
      ],
      "source": [
        "# returns tuple - (class_labels, class_counts)\n",
        "np.unique(y_train, return_counts=True)"
      ]
    },
    {
      "cell_type": "markdown",
      "metadata": {
        "id": "wGVRSJ2YRGIg"
      },
      "source": [
        "This is not quite what we need because it just provides the raw counts, so let's normalise them as follows:"
      ]
    },
    {
      "cell_type": "code",
      "execution_count": null,
      "metadata": {
        "id": "9QSUFbhTRGIh",
        "outputId": "d746d12a-87ed-4a52-f818-b5c2a14a84c5",
        "colab": {
          "base_uri": "https://localhost:8080/"
        }
      },
      "outputs": [
        {
          "output_type": "execute_result",
          "data": {
            "text/plain": [
              "array([0.542175, 0.457825])"
            ]
          },
          "metadata": {},
          "execution_count": 18
        }
      ],
      "source": [
        "np.unique(y_train, return_counts=True)[1] / len(y_train)"
      ]
    },
    {
      "cell_type": "markdown",
      "metadata": {
        "id": "xrJlVL4jRGIh"
      },
      "source": [
        "We can wrap this in a single function that also handles the cases where we only have one sample in a leaf node:"
      ]
    },
    {
      "cell_type": "code",
      "execution_count": null,
      "metadata": {
        "id": "h0K7dQEzRGIh"
      },
      "outputs": [],
      "source": [
        "def calculate_class_probabilities(self, y: pd.Series, indices: np.ndarray):\n",
        "    probs = np.unique(y.iloc[indices], return_counts=True)[1] / len(y.iloc[indices])\n",
        "\n",
        "    # handle edge case when leaf only contains one sample\n",
        "    if len(probs) == 1:\n",
        "        if int(y.iloc[indices].values[0]) == 0:\n",
        "            value = np.array([1.0, 0.0])\n",
        "        else:\n",
        "            value = np.array([0.0, 1.0])\n",
        "    else:\n",
        "        value = probs\n",
        "\n",
        "    return value"
      ]
    },
    {
      "cell_type": "markdown",
      "metadata": {
        "id": "ttuvIwEWRGIi"
      },
      "source": [
        "We can now use this function to override our class method as follows:"
      ]
    },
    {
      "cell_type": "code",
      "execution_count": null,
      "metadata": {
        "id": "Jw2PhhQtRGIi"
      },
      "outputs": [],
      "source": [
        "DecisionTree.calculate_class_probabilities = calculate_class_probabilities"
      ]
    },
    {
      "cell_type": "markdown",
      "metadata": {
        "id": "CZ6ikIN9RGIj"
      },
      "source": [
        "Finally, let's check that the function works as intended:"
      ]
    },
    {
      "cell_type": "code",
      "execution_count": null,
      "metadata": {
        "id": "jKRz_zpwRGIj",
        "outputId": "a15d04ce-6f5a-49b8-f11a-947164b52b32",
        "colab": {
          "base_uri": "https://localhost:8080/"
        }
      },
      "outputs": [
        {
          "output_type": "execute_result",
          "data": {
            "text/plain": [
              "n_samples: 1000; value: [0.516 0.484]; gini: None"
            ]
          },
          "metadata": {},
          "execution_count": 21
        }
      ],
      "source": [
        "rf = TreeEnsemble(X_train_sub, y_train, n_trees=10, sample_size=1000, min_samples_leaf=3)\n",
        "rf.trees[0]"
      ]
    },
    {
      "cell_type": "markdown",
      "metadata": {
        "id": "Pap0aI6SRGIj"
      },
      "source": [
        "### Gini impurity"
      ]
    },
    {
      "cell_type": "markdown",
      "metadata": {
        "id": "GF0ctQoRRGIk"
      },
      "source": [
        "The next piece of information we need to calculate is the Gini impurity at a given node in the tree. Recall that the formula for Gini impurity is\n",
        "\n",
        "$$ G_i = 1 - \\sum_{k=1}^n p_{i,k}^2 $$\n",
        "\n",
        "where $p_{i,k}$ is the ratio of class $k$ examples among the training examples in the ith node. We can get the values of $p_{i,k}$ by using the `np.unique` method again, e.g."
      ]
    },
    {
      "cell_type": "code",
      "execution_count": null,
      "metadata": {
        "id": "VyCblkjARGIk",
        "outputId": "8de78fa2-f664-44c5-c7a7-c3e92ee2b392",
        "colab": {
          "base_uri": "https://localhost:8080/"
        }
      },
      "outputs": [
        {
          "output_type": "stream",
          "name": "stdout",
          "text": [
            "Gini pure = 0.0; Gini mixed = 0.5\n"
          ]
        }
      ],
      "source": [
        "y_pure = np.array([1, 1, 1, 1])\n",
        "y_mixed = np.array([1, 0, 1, 0])\n",
        "\n",
        "gini_pure = 1.0 - np.sum((np.unique(y_pure, return_counts=True)[1] / len(y_pure)) ** 2)\n",
        "gini_mixed = 1.0 - np.sum((np.unique(y_mixed, return_counts=True)[1] / len(y_mixed)) ** 2)\n",
        "\n",
        "print(f\"Gini pure = {gini_pure}; Gini mixed = {gini_mixed}\")"
      ]
    },
    {
      "cell_type": "markdown",
      "metadata": {
        "id": "MifxgUG3RGIk"
      },
      "source": [
        "Let's wrap this logic in a function and override the one defined in our `DecisionTree` class:"
      ]
    },
    {
      "cell_type": "code",
      "execution_count": null,
      "metadata": {
        "id": "erqX7oXyRGIk"
      },
      "outputs": [],
      "source": [
        "def gini_impurity(self, y):\n",
        "    return 1.0 - np.sum((np.unique(y, return_counts=True)[1] / len(y)) ** 2)\n",
        "\n",
        "\n",
        "DecisionTree.gini_impurity = gini_impurity"
      ]
    },
    {
      "cell_type": "markdown",
      "metadata": {
        "id": "QEoE_LUCRGIl"
      },
      "source": [
        "As before, we do a sanity check to see whether it works:"
      ]
    },
    {
      "cell_type": "code",
      "execution_count": null,
      "metadata": {
        "id": "sydiNpWxRGIl",
        "outputId": "1f945f2b-0c72-41fa-b14a-e415eb83e798",
        "colab": {
          "base_uri": "https://localhost:8080/"
        }
      },
      "outputs": [
        {
          "output_type": "execute_result",
          "data": {
            "text/plain": [
              "n_samples: 1000; value: [0.516 0.484]; gini: 0.49948800000000004"
            ]
          },
          "metadata": {},
          "execution_count": 24
        }
      ],
      "source": [
        "rf = TreeEnsemble(X_train_sub, y_train, n_trees=10, sample_size=1000, min_samples_leaf=3)\n",
        "rf.trees[0]"
      ]
    },
    {
      "cell_type": "markdown",
      "metadata": {
        "id": "lwqloHNdRGIl"
      },
      "source": [
        "🎉🎉🎉"
      ]
    },
    {
      "cell_type": "markdown",
      "metadata": {
        "id": "nSFNeBJCRGIm"
      },
      "source": [
        "## Finding the best split on a single branch"
      ]
    },
    {
      "cell_type": "markdown",
      "metadata": {
        "id": "Mp0LPNZuRGIm"
      },
      "source": [
        "Now that we are able to calculate the probabilities and Gini impurity of a Decision Tree's node, the next step is to implement the logic for the `find_better_split` function. To test that we are on the right track, let us first feed the same random sample from our ensemble to scikit-learns' `RandomForestClassifier`:"
      ]
    },
    {
      "cell_type": "code",
      "execution_count": null,
      "metadata": {
        "id": "RwTap0saRGIm",
        "outputId": "38c78f4e-b04f-4bcd-ddd2-65eb8244c983",
        "colab": {
          "base_uri": "https://localhost:8080/"
        }
      },
      "outputs": [
        {
          "output_type": "execute_result",
          "data": {
            "text/plain": [
              "Index(['missing energy magnitude', 'lepton 1 pT'], dtype='object')"
            ]
          },
          "metadata": {},
          "execution_count": 25
        }
      ],
      "source": [
        "# create ensemble with 1 tree\n",
        "rf = TreeEnsemble(X_train_sub, y_train, n_trees=1, sample_size=1000)\n",
        "# extract DecisionTree instance\n",
        "tree = rf.trees[0]\n",
        "# extract sample associated with the Decision Tree\n",
        "X_samp, y_samp = tree.X, tree.y\n",
        "X_samp.columns"
      ]
    },
    {
      "cell_type": "code",
      "execution_count": null,
      "metadata": {
        "id": "KheRJeYvRGIn",
        "outputId": "aad4ee70-0697-4cad-d8ae-63bab0e1df7b",
        "colab": {
          "base_uri": "https://localhost:8080/",
          "height": 92
        }
      },
      "outputs": [
        {
          "output_type": "execute_result",
          "data": {
            "text/plain": [
              "RandomForestClassifier(bootstrap=False, max_depth=1, max_features=None,\n",
              "                       n_estimators=1, random_state=42)"
            ],
            "text/html": [
              "<style>#sk-container-id-1 {color: black;background-color: white;}#sk-container-id-1 pre{padding: 0;}#sk-container-id-1 div.sk-toggleable {background-color: white;}#sk-container-id-1 label.sk-toggleable__label {cursor: pointer;display: block;width: 100%;margin-bottom: 0;padding: 0.3em;box-sizing: border-box;text-align: center;}#sk-container-id-1 label.sk-toggleable__label-arrow:before {content: \"▸\";float: left;margin-right: 0.25em;color: #696969;}#sk-container-id-1 label.sk-toggleable__label-arrow:hover:before {color: black;}#sk-container-id-1 div.sk-estimator:hover label.sk-toggleable__label-arrow:before {color: black;}#sk-container-id-1 div.sk-toggleable__content {max-height: 0;max-width: 0;overflow: hidden;text-align: left;background-color: #f0f8ff;}#sk-container-id-1 div.sk-toggleable__content pre {margin: 0.2em;color: black;border-radius: 0.25em;background-color: #f0f8ff;}#sk-container-id-1 input.sk-toggleable__control:checked~div.sk-toggleable__content {max-height: 200px;max-width: 100%;overflow: auto;}#sk-container-id-1 input.sk-toggleable__control:checked~label.sk-toggleable__label-arrow:before {content: \"▾\";}#sk-container-id-1 div.sk-estimator input.sk-toggleable__control:checked~label.sk-toggleable__label {background-color: #d4ebff;}#sk-container-id-1 div.sk-label input.sk-toggleable__control:checked~label.sk-toggleable__label {background-color: #d4ebff;}#sk-container-id-1 input.sk-hidden--visually {border: 0;clip: rect(1px 1px 1px 1px);clip: rect(1px, 1px, 1px, 1px);height: 1px;margin: -1px;overflow: hidden;padding: 0;position: absolute;width: 1px;}#sk-container-id-1 div.sk-estimator {font-family: monospace;background-color: #f0f8ff;border: 1px dotted black;border-radius: 0.25em;box-sizing: border-box;margin-bottom: 0.5em;}#sk-container-id-1 div.sk-estimator:hover {background-color: #d4ebff;}#sk-container-id-1 div.sk-parallel-item::after {content: \"\";width: 100%;border-bottom: 1px solid gray;flex-grow: 1;}#sk-container-id-1 div.sk-label:hover label.sk-toggleable__label {background-color: #d4ebff;}#sk-container-id-1 div.sk-serial::before {content: \"\";position: absolute;border-left: 1px solid gray;box-sizing: border-box;top: 0;bottom: 0;left: 50%;z-index: 0;}#sk-container-id-1 div.sk-serial {display: flex;flex-direction: column;align-items: center;background-color: white;padding-right: 0.2em;padding-left: 0.2em;position: relative;}#sk-container-id-1 div.sk-item {position: relative;z-index: 1;}#sk-container-id-1 div.sk-parallel {display: flex;align-items: stretch;justify-content: center;background-color: white;position: relative;}#sk-container-id-1 div.sk-item::before, #sk-container-id-1 div.sk-parallel-item::before {content: \"\";position: absolute;border-left: 1px solid gray;box-sizing: border-box;top: 0;bottom: 0;left: 50%;z-index: -1;}#sk-container-id-1 div.sk-parallel-item {display: flex;flex-direction: column;z-index: 1;position: relative;background-color: white;}#sk-container-id-1 div.sk-parallel-item:first-child::after {align-self: flex-end;width: 50%;}#sk-container-id-1 div.sk-parallel-item:last-child::after {align-self: flex-start;width: 50%;}#sk-container-id-1 div.sk-parallel-item:only-child::after {width: 0;}#sk-container-id-1 div.sk-dashed-wrapped {border: 1px dashed gray;margin: 0 0.4em 0.5em 0.4em;box-sizing: border-box;padding-bottom: 0.4em;background-color: white;}#sk-container-id-1 div.sk-label label {font-family: monospace;font-weight: bold;display: inline-block;line-height: 1.2em;}#sk-container-id-1 div.sk-label-container {text-align: center;}#sk-container-id-1 div.sk-container {/* jupyter's `normalize.less` sets `[hidden] { display: none; }` but bootstrap.min.css set `[hidden] { display: none !important; }` so we also need the `!important` here to be able to override the default hidden behavior on the sphinx rendered scikit-learn.org. See: https://github.com/scikit-learn/scikit-learn/issues/21755 */display: inline-block !important;position: relative;}#sk-container-id-1 div.sk-text-repr-fallback {display: none;}</style><div id=\"sk-container-id-1\" class=\"sk-top-container\"><div class=\"sk-text-repr-fallback\"><pre>RandomForestClassifier(bootstrap=False, max_depth=1, max_features=None,\n",
              "                       n_estimators=1, random_state=42)</pre><b>In a Jupyter environment, please rerun this cell to show the HTML representation or trust the notebook. <br />On GitHub, the HTML representation is unable to render, please try loading this page with nbviewer.org.</b></div><div class=\"sk-container\" hidden><div class=\"sk-item\"><div class=\"sk-estimator sk-toggleable\"><input class=\"sk-toggleable__control sk-hidden--visually\" id=\"sk-estimator-id-1\" type=\"checkbox\" checked><label for=\"sk-estimator-id-1\" class=\"sk-toggleable__label sk-toggleable__label-arrow\">RandomForestClassifier</label><div class=\"sk-toggleable__content\"><pre>RandomForestClassifier(bootstrap=False, max_depth=1, max_features=None,\n",
              "                       n_estimators=1, random_state=42)</pre></div></div></div></div></div>"
            ]
          },
          "metadata": {},
          "execution_count": 26
        }
      ],
      "source": [
        "# create Decision Tree with same configuration as our algorithm\n",
        "model = RandomForestClassifier(n_estimators=1, max_depth=1, bootstrap=False, random_state=42, max_features=None)\n",
        "model.fit(X_samp, y_samp)"
      ]
    },
    {
      "cell_type": "markdown",
      "metadata": {
        "id": "oAxD10yZRGIn"
      },
      "source": [
        "To aid with the comarison, let's also create a plotting function so we can visualise the nodes of our decision trees:"
      ]
    },
    {
      "cell_type": "code",
      "execution_count": null,
      "metadata": {
        "id": "QEwtHbSPRGIo"
      },
      "outputs": [],
      "source": [
        "def draw_tree(fitted_model):\n",
        "    # get column names\n",
        "    feature_names = X_train_sub.columns\n",
        "    # define class names\n",
        "    class_names = [\"Background\", \"Signal\"]\n",
        "    fig, ax = plt.subplots(figsize=(30, 10))\n",
        "    # generate tree plot\n",
        "    plot_tree(\n",
        "        fitted_model.estimators_[0],\n",
        "        filled=True,\n",
        "        feature_names=feature_names,\n",
        "        class_names=class_names,\n",
        "        ax=ax,\n",
        "        fontsize=18,\n",
        "        proportion=True,\n",
        "    )\n",
        "    plt.show()"
      ]
    },
    {
      "cell_type": "code",
      "execution_count": null,
      "metadata": {
        "id": "mYT9OxnNRGIo",
        "outputId": "9ff34028-e65e-4ef3-e0cb-535798b0face",
        "colab": {
          "base_uri": "https://localhost:8080/",
          "height": 493
        }
      },
      "outputs": [
        {
          "output_type": "display_data",
          "data": {
            "text/plain": [
              "<Figure size 3000x1000 with 1 Axes>"
            ],
            "image/png": "[encoded data removed]"
          },
          "metadata": {}
        }
      ],
      "source": [
        "draw_tree(model)"
      ]
    },
    {
      "cell_type": "markdown",
      "metadata": {
        "id": "737j5ih7RGIo"
      },
      "source": [
        "To recreate this split, recall that scikit-learn uses the Classification And Regression Tree (CART) algorithm to train Decision Trees. Here the key idea is to search for the pair `(feature, split_point)` the produces the purest subsets, as measured by their Gini impurity. The function to minimise is given by\n",
        "\n",
        "$$ J(k, t_k) = \\frac{m_\\mathrm{left}}{m} G_\\mathrm{left} + \\frac{m_\\mathrm{right}}{m}G_\\mathrm{right} $$\n",
        "\n",
        "where $k$ is a single feature, $t_k$ is the split point (e.g. \"missing energy magnitude $\\leq$ 1.14), $m_\\mathrm{left/right}$ is the number of examples in the left/right subset, and $G_\\mathrm{left/right}$ is the Gini impurity. Thus for each feature $k$, the strategy will be to calculate $J(k, t_k)$ for every possible split point $t_k$ and update the score if it less than what we have seen already. Implemented as code, the result could look like:"
      ]
    },
    {
      "cell_type": "code",
      "execution_count": null,
      "metadata": {
        "id": "DfdGA4iJRGIo"
      },
      "outputs": [],
      "source": [
        "def find_better_split(self, feature_index):\n",
        "    # get sample for a single feature\n",
        "    X, y = self.X.values[self.indices, feature_index], self.y.iloc[self.indices]\n",
        "\n",
        "    for t in range(self.n_samples):\n",
        "        # create boolean masks for samples above / below the split point t\n",
        "        lhs = X <= X[t]\n",
        "        rhs = X > X[t]\n",
        "\n",
        "        # continue if stopping criterion not reached\n",
        "        if rhs.sum() < self.min_samples_leaf or lhs.sum() < self.min_samples_leaf:\n",
        "            continue\n",
        "\n",
        "        # calculate Gini impurities for left and right nodes\n",
        "        lhs_gini = gini_impurity(self, y[lhs])\n",
        "        rhs_gini = gini_impurity(self, y[rhs])\n",
        "        # calculate score for current split point\n",
        "        curr_score = lhs_gini * len(y[lhs]) / len(y) + rhs_gini * len(y[rhs]) / len(y)\n",
        "        # update attributes if new score is smaller than old\n",
        "        if curr_score < self.score:\n",
        "            self.feature_index, self.score, self.split, self.gini = (\n",
        "                feature_index,\n",
        "                curr_score,\n",
        "                X[t],\n",
        "                gini_impurity(self, y),\n",
        "            )"
      ]
    },
    {
      "cell_type": "markdown",
      "metadata": {
        "id": "TuRVmoDMRGIp"
      },
      "source": [
        "Let's check this works by first calculating the best split point for `lepton 1 pT`:"
      ]
    },
    {
      "cell_type": "code",
      "execution_count": null,
      "metadata": {
        "id": "03Qyw2QqRGIp",
        "outputId": "10cacf6d-c87a-4c0f-b200-67bcc8a0cf49",
        "colab": {
          "base_uri": "https://localhost:8080/"
        }
      },
      "outputs": [
        {
          "output_type": "stream",
          "name": "stdout",
          "text": [
            "392 ms ± 9.77 ms per loop (mean ± std. dev. of 7 runs, 1 loop each)\n"
          ]
        },
        {
          "output_type": "execute_result",
          "data": {
            "text/plain": [
              "n_samples: 1000; value: [0.516 0.484]; gini: 0.49948800000000004; score: 0.406274337005304; feature: lepton 1 pT; split_point: 0.8724983930587769"
            ]
          },
          "metadata": {},
          "execution_count": 30
        }
      ],
      "source": [
        "%timeit find_better_split(tree, feature_index=1)\n",
        "tree"
      ]
    },
    {
      "cell_type": "markdown",
      "metadata": {
        "id": "H6twskY5RGIp"
      },
      "source": [
        "Similarly for `missing energy magnitude` we find:"
      ]
    },
    {
      "cell_type": "code",
      "execution_count": null,
      "metadata": {
        "id": "kmGIgFwJRGIp",
        "outputId": "7d8a58c6-0f9a-4cc1-ad4a-5701c2df7dcf",
        "colab": {
          "base_uri": "https://localhost:8080/"
        }
      },
      "outputs": [
        {
          "output_type": "execute_result",
          "data": {
            "text/plain": [
              "n_samples: 1000; value: [0.516 0.484]; gini: 0.49948800000000004; score: 0.3864820927729048; feature: missing energy magnitude; split_point: 1.1392959356307983"
            ]
          },
          "metadata": {},
          "execution_count": 31
        }
      ],
      "source": [
        "find_better_split(tree, feature_index=0)\n",
        "tree"
      ]
    },
    {
      "cell_type": "markdown",
      "metadata": {
        "id": "oN-Nz346RGIq"
      },
      "source": [
        "It works! We see that `missing energy magnitude` has a lower score (i.e. cost $J$) than `lepton 1 pT`, and produces class probabilities and a Gini impurity consistent with scikit-learn. The downside is that our implementation is _slow_ - we can do better."
      ]
    },
    {
      "cell_type": "markdown",
      "metadata": {
        "id": "FA5KaV2xRGIq"
      },
      "source": [
        "### Speeding things up"
      ]
    },
    {
      "cell_type": "markdown",
      "metadata": {
        "id": "u_zQCy7jRGIq"
      },
      "source": [
        "One problem with our implementation above is that we're repeatedly checking whether every value is greater or less than a given split point $t_k$. We can speed up the algorithm by first _sorting_ the arrays and then observing that we can compute the Gini impurities efficiently by finding the index that separates the two groups (i.e. signal vs background).\n",
        "\n",
        "To that end, let's reset our Decision Tree:"
      ]
    },
    {
      "cell_type": "code",
      "execution_count": null,
      "metadata": {
        "id": "FYDEHgXjRGIr"
      },
      "outputs": [],
      "source": [
        "tree = TreeEnsemble(X_train_sub, y_train, 1, 1000).trees[0]"
      ]
    },
    {
      "cell_type": "code",
      "execution_count": null,
      "metadata": {
        "id": "cAmO7N_wRGIr"
      },
      "outputs": [],
      "source": [
        "def find_better_split(self, feature_index):\n",
        "    X, y = self.X.values[self.indices, feature_index], self.y.values[self.indices]\n",
        "\n",
        "    sorted_indices = np.argsort(X)\n",
        "    y_sorted, X_sorted = y[sorted_indices], X[sorted_indices]\n",
        "    index = 0\n",
        "\n",
        "    for i in range(0, self.n_samples - self.min_samples_leaf):\n",
        "        index += 1\n",
        "        Xi = X_sorted[i]\n",
        "        # continue if stopping criterion not reached\n",
        "        if i < self.min_samples_leaf - 1 or Xi == X_sorted[i + 1]:\n",
        "            continue\n",
        "\n",
        "        # calculate Gini impurities for left and right nodes\n",
        "        lhs_gini = gini_impurity(self, y_sorted[:index])\n",
        "        rhs_gini = gini_impurity(self, y_sorted[index:])\n",
        "        # calculate score for current split point\n",
        "        curr_score = lhs_gini * len(y_sorted[:index]) / len(y_sorted) + rhs_gini * len(y_sorted[index:]) / len(y_sorted)\n",
        "        # update attributes if new score is smaller than old\n",
        "        if curr_score < self.score:\n",
        "            self.feature_index, self.score, self.split, self.gini = (\n",
        "                feature_index,\n",
        "                curr_score,\n",
        "                X_sorted[i],\n",
        "                gini_impurity(self, y),\n",
        "            )"
      ]
    },
    {
      "cell_type": "code",
      "execution_count": null,
      "metadata": {
        "id": "JtIjY_a3RGIr",
        "outputId": "61ce994f-17d8-4266-d5ce-7d7035dca23d",
        "colab": {
          "base_uri": "https://localhost:8080/"
        }
      },
      "outputs": [
        {
          "output_type": "stream",
          "name": "stdout",
          "text": [
            "88.3 ms ± 2.13 ms per loop (mean ± std. dev. of 7 runs, 10 loops each)\n"
          ]
        },
        {
          "output_type": "execute_result",
          "data": {
            "text/plain": [
              "n_samples: 1000; value: [0.516 0.484]; gini: 0.49948800000000004; score: 0.406274337005304; feature: lepton 1 pT; split_point: 0.8724983930587769"
            ]
          },
          "metadata": {},
          "execution_count": 34
        }
      ],
      "source": [
        "%timeit find_better_split(tree, feature_index=1)\n",
        "tree"
      ]
    },
    {
      "cell_type": "markdown",
      "metadata": {
        "id": "EQtdkCg0RGIs"
      },
      "source": [
        "Not bad - we've reduced the complexity of our original algorithm from $O(n^2)$ to $O(n)$ to gain roughly a factor of 60x speed up! Let's check we recover the same result for `missing energy magnitude` as before:"
      ]
    },
    {
      "cell_type": "code",
      "execution_count": null,
      "metadata": {
        "id": "ApeMbhGyRGIs",
        "outputId": "bd725c78-1066-47c9-92e1-1dcf897b4a5b",
        "colab": {
          "base_uri": "https://localhost:8080/"
        }
      },
      "outputs": [
        {
          "output_type": "execute_result",
          "data": {
            "text/plain": [
              "n_samples: 1000; value: [0.516 0.484]; gini: 0.49948800000000004; score: 0.3864820927729048; feature: missing energy magnitude; split_point: 1.1392959356307983"
            ]
          },
          "metadata": {},
          "execution_count": 35
        }
      ],
      "source": [
        "find_better_split(tree, feature_index=0)\n",
        "tree"
      ]
    },
    {
      "cell_type": "markdown",
      "metadata": {
        "id": "nYUCl0bYRGIs"
      },
      "source": [
        "Finally, we can override the function in our `DecisionTree` class so we can access it from our `TreeEnsemble`:"
      ]
    },
    {
      "cell_type": "code",
      "execution_count": null,
      "metadata": {
        "id": "JECmn4MlRGIs"
      },
      "outputs": [],
      "source": [
        "DecisionTree.find_better_split = find_better_split"
      ]
    },
    {
      "cell_type": "code",
      "execution_count": null,
      "metadata": {
        "id": "1zBa-e9HRGIt",
        "outputId": "97ad7c5f-ad96-4cdf-c286-5fcef442ccfd",
        "colab": {
          "base_uri": "https://localhost:8080/"
        }
      },
      "outputs": [
        {
          "output_type": "execute_result",
          "data": {
            "text/plain": [
              "n_samples: 1000; value: [0.516 0.484]; gini: 0.49948800000000004; score: 0.3864820927729048; feature: missing energy magnitude; split_point: 1.1392959356307983"
            ]
          },
          "metadata": {},
          "execution_count": 37
        }
      ],
      "source": [
        "tree = TreeEnsemble(X_train, y_train, 1, 1000).trees[0]\n",
        "tree"
      ]
    },
    {
      "cell_type": "markdown",
      "metadata": {
        "id": "tgbAV2-wRGIt"
      },
      "source": [
        "## Growing the full decision tree"
      ]
    },
    {
      "cell_type": "markdown",
      "metadata": {
        "id": "FW2SP0q_RGIt"
      },
      "source": [
        "So far we have worked out how to find the best split point for single now - we are now ready to tackle building the whole tree! Let's increase the depth in our scikit-learn model to compare against:"
      ]
    },
    {
      "cell_type": "code",
      "execution_count": null,
      "metadata": {
        "id": "IYGcb0G4RGIu",
        "outputId": "f33c9acd-bb0b-4943-ebb4-f34de48b70c4",
        "colab": {
          "base_uri": "https://localhost:8080/",
          "height": 493
        }
      },
      "outputs": [
        {
          "output_type": "display_data",
          "data": {
            "text/plain": [
              "<Figure size 3000x1000 with 1 Axes>"
            ],
            "image/png": "[encoded data removed]"
          },
          "metadata": {}
        }
      ],
      "source": [
        "model = RandomForestClassifier(n_estimators=1, max_depth=2, bootstrap=False, random_state=42, max_features=None)\n",
        "model.fit(X_samp, y_samp)\n",
        "\n",
        "draw_tree(model)"
      ]
    },
    {
      "cell_type": "markdown",
      "metadata": {
        "id": "-UicgBqORGIu"
      },
      "source": [
        "Recall that our `DecisionTree` class has a simple function to find the best split:\n",
        "\n",
        "```python\n",
        "def find_feature_split(self):\n",
        "    for i in range(self.n_features):\n",
        "        self.find_better_split(i)\n",
        "```\n",
        "This is not quite sufficient it only checks for the best split at the root node, when in fact we need to check whether is a better split in the left and right child nodes. The following change to the code takes care of this:"
      ]
    },
    {
      "cell_type": "code",
      "execution_count": null,
      "metadata": {
        "id": "Ol8v-ZqBRGIu"
      },
      "outputs": [],
      "source": [
        "def find_feature_split(self):\n",
        "    for i in range(self.n_features):\n",
        "        self.find_better_split(i)\n",
        "\n",
        "    if self.is_leaf:\n",
        "        return\n",
        "\n",
        "    X = self.split_feature\n",
        "    # grab indices for left and right nodes\n",
        "    lhs = np.nonzero(X <= self.split)[0]\n",
        "    rhs = np.nonzero(X > self.split)[0]\n",
        "    # recursively calculate decision trees for all nodes\n",
        "    self.lhs = DecisionTree(self.X, self.y, self.indices[lhs])\n",
        "    self.rhs = DecisionTree(self.X, self.y, self.indices[rhs])"
      ]
    },
    {
      "cell_type": "markdown",
      "metadata": {
        "id": "Duh95dYBRGIv"
      },
      "source": [
        "Now we can override the function in our class and test we can reproduce the numbers in our scikit-learn tree:"
      ]
    },
    {
      "cell_type": "code",
      "execution_count": null,
      "metadata": {
        "id": "VxsFH46pRGIv"
      },
      "outputs": [],
      "source": [
        "DecisionTree.find_feature_split = find_feature_split"
      ]
    },
    {
      "cell_type": "code",
      "execution_count": null,
      "metadata": {
        "id": "alzKdXfnRGIv",
        "outputId": "3c14fd15-e1ac-43b0-e904-ccd597919c7e",
        "colab": {
          "base_uri": "https://localhost:8080/"
        }
      },
      "outputs": [
        {
          "output_type": "execute_result",
          "data": {
            "text/plain": [
              "n_samples: 1000; value: [0.516 0.484]; gini: 0.49948800000000004; score: 0.3864820927729048; feature: missing energy magnitude; split_point: 1.1392959356307983"
            ]
          },
          "metadata": {},
          "execution_count": 41
        }
      ],
      "source": [
        "tree = TreeEnsemble(X_samp, y_samp, 1, 1000).trees[0]\n",
        "tree"
      ]
    },
    {
      "cell_type": "code",
      "execution_count": null,
      "metadata": {
        "id": "M3RSCGzuRGIv",
        "outputId": "996fb28b-ae6b-49e7-c3c4-f4231457eab7",
        "colab": {
          "base_uri": "https://localhost:8080/"
        }
      },
      "outputs": [
        {
          "output_type": "execute_result",
          "data": {
            "text/plain": [
              "n_samples: 707; value: [0.66902405 0.33097595]; gini: 0.4428617442467625; score: 0.3753049089041096; feature: lepton 1 pT; split_point: 0.8853832483291628"
            ]
          },
          "metadata": {},
          "execution_count": 42
        }
      ],
      "source": [
        "tree.lhs"
      ]
    },
    {
      "cell_type": "code",
      "execution_count": null,
      "metadata": {
        "id": "GnGMiy8VRGIw",
        "outputId": "8be5c2b7-33cf-4575-f1cd-05af70f08ece",
        "colab": {
          "base_uri": "https://localhost:8080/"
        }
      },
      "outputs": [
        {
          "output_type": "execute_result",
          "data": {
            "text/plain": [
              "n_samples: 293; value: [0.14675768 0.85324232]; gini: 0.2504397255646542; score: 0.22066400314213208; feature: missing energy magnitude; split_point: 1.4726196527481081"
            ]
          },
          "metadata": {},
          "execution_count": 43
        }
      ],
      "source": [
        "tree.rhs"
      ]
    },
    {
      "cell_type": "code",
      "execution_count": null,
      "metadata": {
        "id": "_vSBOD4jRGIw",
        "outputId": "399b87f7-2204-4768-d3b5-5b66f543032c",
        "colab": {
          "base_uri": "https://localhost:8080/"
        }
      },
      "outputs": [
        {
          "output_type": "execute_result",
          "data": {
            "text/plain": [
              "n_samples: 477; value: [0.7966457 0.2033543]; gini: 0.32400265460666544; score: 0.3118973109371423; feature: lepton 1 pT; split_point: 0.7281696796417235"
            ]
          },
          "metadata": {},
          "execution_count": 44
        }
      ],
      "source": [
        "tree.lhs.lhs"
      ]
    },
    {
      "cell_type": "code",
      "execution_count": null,
      "metadata": {
        "id": "uMzfjyKKRGIw",
        "outputId": "072da322-c3b5-4369-abff-fe530524246c",
        "colab": {
          "base_uri": "https://localhost:8080/"
        }
      },
      "outputs": [
        {
          "output_type": "execute_result",
          "data": {
            "text/plain": [
              "n_samples: 230; value: [0.40434783 0.59565217]; gini: 0.4817013232514178; score: 0.4334455110107284; feature: lepton 1 pT; split_point: 1.5821422338485713"
            ]
          },
          "metadata": {},
          "execution_count": 45
        }
      ],
      "source": [
        "tree.lhs.rhs"
      ]
    },
    {
      "cell_type": "code",
      "execution_count": null,
      "metadata": {
        "id": "oo3GCSs1RGIw",
        "outputId": "006609ef-0ff9-4073-f45b-e389bd9b3c0c",
        "colab": {
          "base_uri": "https://localhost:8080/"
        }
      },
      "outputs": [
        {
          "output_type": "execute_result",
          "data": {
            "text/plain": [
              "n_samples: 102; value: [0.31372549 0.68627451]; gini: 0.43060361399461744; score: 0.37738731856378904; feature: lepton 1 pT; split_point: 0.6343935132026673"
            ]
          },
          "metadata": {},
          "execution_count": 46
        }
      ],
      "source": [
        "tree.rhs.lhs"
      ]
    },
    {
      "cell_type": "code",
      "execution_count": null,
      "metadata": {
        "id": "PWvOYQT3RGIx",
        "outputId": "6698df36-ba8d-4652-b1a6-45137fe136b2",
        "colab": {
          "base_uri": "https://localhost:8080/"
        }
      },
      "outputs": [
        {
          "output_type": "execute_result",
          "data": {
            "text/plain": [
              "n_samples: 191; value: [0.05759162 0.94240838]; gini: 0.10854965598530741; score: 0.1032951765936059; feature: missing energy magnitude; split_point: 1.6436718702316286"
            ]
          },
          "metadata": {},
          "execution_count": 47
        }
      ],
      "source": [
        "tree.rhs.rhs"
      ]
    },
    {
      "cell_type": "markdown",
      "metadata": {
        "id": "7cHpNDgQRGIx"
      },
      "source": [
        "Hooray, it works 🥳🥳🥳!"
      ]
    },
    {
      "cell_type": "markdown",
      "metadata": {
        "id": "-zeJi-BuRGIx"
      },
      "source": [
        "## Generate predictions"
      ]
    },
    {
      "cell_type": "markdown",
      "metadata": {
        "id": "MOEjUfxpRGIx"
      },
      "source": [
        "Now that we have something that can train a Decision Tree, the next step is to implement the methods to generate predictions. Although we have `TreeEnsemble.predict` we do not have anything like this yet for `DecisionTree`. To make things more interesting, let's add a few more columns to our training set:"
      ]
    },
    {
      "cell_type": "code",
      "execution_count": null,
      "metadata": {
        "id": "NcoMC2NzRGIx"
      },
      "outputs": [],
      "source": [
        "cols = [\"missing energy magnitude\", \"lepton 1 pT\", \"axial MET\", \"M_TR_2\", \"M_R\", \"S_R\"]\n",
        "\n",
        "X_train_sub = X_train[cols].copy()\n",
        "X_valid_sub = X_valid[cols].copy()"
      ]
    },
    {
      "cell_type": "markdown",
      "metadata": {
        "id": "rrJrrgv9RGIy"
      },
      "source": [
        "Let's create our tree ensemble again to make sure we can compare against scikit-learn:"
      ]
    },
    {
      "cell_type": "code",
      "execution_count": null,
      "metadata": {
        "id": "nquM6lBWRGIy",
        "outputId": "fad33521-d40f-4212-8d16-4bfe9db2f676",
        "colab": {
          "base_uri": "https://localhost:8080/"
        }
      },
      "outputs": [
        {
          "output_type": "stream",
          "name": "stdout",
          "text": [
            "CPU times: user 5.19 s, sys: 51.7 ms, total: 5.25 s\n",
            "Wall time: 5.29 s\n"
          ]
        }
      ],
      "source": [
        "%time tree = TreeEnsemble(X_train_sub, y_train, 1, 1000).trees[0]\n",
        "X_samp, y_samp = tree.X, tree.y"
      ]
    },
    {
      "cell_type": "code",
      "execution_count": null,
      "metadata": {
        "id": "BKll2WCFRGIy",
        "outputId": "f230a534-4fb3-40f2-9787-eff963e6cb14",
        "colab": {
          "base_uri": "https://localhost:8080/",
          "height": 92
        }
      },
      "outputs": [
        {
          "output_type": "execute_result",
          "data": {
            "text/plain": [
              "RandomForestClassifier(bootstrap=False, max_features=None, min_samples_leaf=5,\n",
              "                       n_estimators=1, random_state=42)"
            ],
            "text/html": [
              "<style>#sk-container-id-2 {color: black;background-color: white;}#sk-container-id-2 pre{padding: 0;}#sk-container-id-2 div.sk-toggleable {background-color: white;}#sk-container-id-2 label.sk-toggleable__label {cursor: pointer;display: block;width: 100%;margin-bottom: 0;padding: 0.3em;box-sizing: border-box;text-align: center;}#sk-container-id-2 label.sk-toggleable__label-arrow:before {content: \"▸\";float: left;margin-right: 0.25em;color: #696969;}#sk-container-id-2 label.sk-toggleable__label-arrow:hover:before {color: black;}#sk-container-id-2 div.sk-estimator:hover label.sk-toggleable__label-arrow:before {color: black;}#sk-container-id-2 div.sk-toggleable__content {max-height: 0;max-width: 0;overflow: hidden;text-align: left;background-color: #f0f8ff;}#sk-container-id-2 div.sk-toggleable__content pre {margin: 0.2em;color: black;border-radius: 0.25em;background-color: #f0f8ff;}#sk-container-id-2 input.sk-toggleable__control:checked~div.sk-toggleable__content {max-height: 200px;max-width: 100%;overflow: auto;}#sk-container-id-2 input.sk-toggleable__control:checked~label.sk-toggleable__label-arrow:before {content: \"▾\";}#sk-container-id-2 div.sk-estimator input.sk-toggleable__control:checked~label.sk-toggleable__label {background-color: #d4ebff;}#sk-container-id-2 div.sk-label input.sk-toggleable__control:checked~label.sk-toggleable__label {background-color: #d4ebff;}#sk-container-id-2 input.sk-hidden--visually {border: 0;clip: rect(1px 1px 1px 1px);clip: rect(1px, 1px, 1px, 1px);height: 1px;margin: -1px;overflow: hidden;padding: 0;position: absolute;width: 1px;}#sk-container-id-2 div.sk-estimator {font-family: monospace;background-color: #f0f8ff;border: 1px dotted black;border-radius: 0.25em;box-sizing: border-box;margin-bottom: 0.5em;}#sk-container-id-2 div.sk-estimator:hover {background-color: #d4ebff;}#sk-container-id-2 div.sk-parallel-item::after {content: \"\";width: 100%;border-bottom: 1px solid gray;flex-grow: 1;}#sk-container-id-2 div.sk-label:hover label.sk-toggleable__label {background-color: #d4ebff;}#sk-container-id-2 div.sk-serial::before {content: \"\";position: absolute;border-left: 1px solid gray;box-sizing: border-box;top: 0;bottom: 0;left: 50%;z-index: 0;}#sk-container-id-2 div.sk-serial {display: flex;flex-direction: column;align-items: center;background-color: white;padding-right: 0.2em;padding-left: 0.2em;position: relative;}#sk-container-id-2 div.sk-item {position: relative;z-index: 1;}#sk-container-id-2 div.sk-parallel {display: flex;align-items: stretch;justify-content: center;background-color: white;position: relative;}#sk-container-id-2 div.sk-item::before, #sk-container-id-2 div.sk-parallel-item::before {content: \"\";position: absolute;border-left: 1px solid gray;box-sizing: border-box;top: 0;bottom: 0;left: 50%;z-index: -1;}#sk-container-id-2 div.sk-parallel-item {display: flex;flex-direction: column;z-index: 1;position: relative;background-color: white;}#sk-container-id-2 div.sk-parallel-item:first-child::after {align-self: flex-end;width: 50%;}#sk-container-id-2 div.sk-parallel-item:last-child::after {align-self: flex-start;width: 50%;}#sk-container-id-2 div.sk-parallel-item:only-child::after {width: 0;}#sk-container-id-2 div.sk-dashed-wrapped {border: 1px dashed gray;margin: 0 0.4em 0.5em 0.4em;box-sizing: border-box;padding-bottom: 0.4em;background-color: white;}#sk-container-id-2 div.sk-label label {font-family: monospace;font-weight: bold;display: inline-block;line-height: 1.2em;}#sk-container-id-2 div.sk-label-container {text-align: center;}#sk-container-id-2 div.sk-container {/* jupyter's `normalize.less` sets `[hidden] { display: none; }` but bootstrap.min.css set `[hidden] { display: none !important; }` so we also need the `!important` here to be able to override the default hidden behavior on the sphinx rendered scikit-learn.org. See: https://github.com/scikit-learn/scikit-learn/issues/21755 */display: inline-block !important;position: relative;}#sk-container-id-2 div.sk-text-repr-fallback {display: none;}</style><div id=\"sk-container-id-2\" class=\"sk-top-container\"><div class=\"sk-text-repr-fallback\"><pre>RandomForestClassifier(bootstrap=False, max_features=None, min_samples_leaf=5,\n",
              "                       n_estimators=1, random_state=42)</pre><b>In a Jupyter environment, please rerun this cell to show the HTML representation or trust the notebook. <br />On GitHub, the HTML representation is unable to render, please try loading this page with nbviewer.org.</b></div><div class=\"sk-container\" hidden><div class=\"sk-item\"><div class=\"sk-estimator sk-toggleable\"><input class=\"sk-toggleable__control sk-hidden--visually\" id=\"sk-estimator-id-2\" type=\"checkbox\" checked><label for=\"sk-estimator-id-2\" class=\"sk-toggleable__label sk-toggleable__label-arrow\">RandomForestClassifier</label><div class=\"sk-toggleable__content\"><pre>RandomForestClassifier(bootstrap=False, max_features=None, min_samples_leaf=5,\n",
              "                       n_estimators=1, random_state=42)</pre></div></div></div></div></div>"
            ]
          },
          "metadata": {},
          "execution_count": 50
        }
      ],
      "source": [
        "model = RandomForestClassifier(\n",
        "    n_estimators=1, max_depth=None, bootstrap=False, max_features=None, random_state=42, min_samples_leaf=5,\n",
        ")\n",
        "model.fit(X_samp, y_samp)"
      ]
    },
    {
      "cell_type": "markdown",
      "metadata": {
        "id": "xezjdRDORGIy"
      },
      "source": [
        "To generate the predictions, we simply need to loop over each row in $X$ and build the array as follows:"
      ]
    },
    {
      "cell_type": "code",
      "execution_count": null,
      "metadata": {
        "id": "OfGwxs1KRGIy"
      },
      "outputs": [],
      "source": [
        "def predict(self, X):\n",
        "    return np.array([self.predict_row(Xi) for Xi in X])\n",
        "\n",
        "\n",
        "DecisionTree.predict = predict"
      ]
    },
    {
      "cell_type": "markdown",
      "metadata": {
        "id": "59wwDGrLRGIz"
      },
      "source": [
        "The final step is to implement `predict_row`, which is mostly trivial: if we're at a leaf note we return the class label with the highest probability, otherwise we figure out whether to traverse to the left or right child node, and so on:"
      ]
    },
    {
      "cell_type": "code",
      "execution_count": null,
      "metadata": {
        "id": "Fuhc69VgRGIz"
      },
      "outputs": [],
      "source": [
        "def predict_row(self, Xi):\n",
        "    if self.is_leaf:\n",
        "        return self.value\n",
        "    t = self.lhs if Xi[self.feature_index] <= self.split else self.rhs\n",
        "    return t.predict_row(Xi)\n",
        "\n",
        "\n",
        "DecisionTree.predict_row = predict_row"
      ]
    },
    {
      "cell_type": "markdown",
      "metadata": {
        "id": "gPqdrKTDRGIz"
      },
      "source": [
        "With this we can now calculate our class probabilities:"
      ]
    },
    {
      "cell_type": "code",
      "execution_count": null,
      "metadata": {
        "id": "Gy3SROI_RGIz",
        "outputId": "026e0a3d-ed2e-4df6-b777-5f63f4f394f8",
        "colab": {
          "base_uri": "https://localhost:8080/"
        }
      },
      "outputs": [
        {
          "output_type": "stream",
          "name": "stdout",
          "text": [
            "CPU times: user 137 ms, sys: 1.99 ms, total: 139 ms\n",
            "Wall time: 139 ms\n"
          ]
        }
      ],
      "source": [
        "%time probs = tree.predict(X_valid_sub.values)[:, 1]"
      ]
    },
    {
      "cell_type": "markdown",
      "metadata": {
        "id": "Nyp_AQSnRGI0"
      },
      "source": [
        "and evaluate the ROC AUC score on the validation set:"
      ]
    },
    {
      "cell_type": "code",
      "execution_count": null,
      "metadata": {
        "id": "vJomPcrSRGI0",
        "outputId": "7e8ff378-57c4-4e51-eb6e-e5cc974efea6",
        "colab": {
          "base_uri": "https://localhost:8080/"
        }
      },
      "outputs": [
        {
          "output_type": "execute_result",
          "data": {
            "text/plain": [
              "0.7603031405574215"
            ]
          },
          "metadata": {},
          "execution_count": 54
        }
      ],
      "source": [
        "roc_auc_score(y_valid, probs)"
      ]
    },
    {
      "cell_type": "markdown",
      "metadata": {
        "id": "F_FeSHZORGI0"
      },
      "source": [
        "How does this compare with scikit-learn's implementation? Let's find out by calculating their predictions and evaluating on the validation set:"
      ]
    },
    {
      "cell_type": "code",
      "execution_count": null,
      "metadata": {
        "id": "oyhugGhORGI0",
        "outputId": "82305835-eb4c-427f-ae05-93fe9ec987e3",
        "colab": {
          "base_uri": "https://localhost:8080/"
        }
      },
      "outputs": [
        {
          "output_type": "execute_result",
          "data": {
            "text/plain": [
              "0.76246534984286"
            ]
          },
          "metadata": {},
          "execution_count": 55
        }
      ],
      "source": [
        "probs_sklearn = model.predict_proba(X_valid_sub)[:, 1]\n",
        "roc_auc_score(y_valid, probs_sklearn)"
      ]
    },
    {
      "cell_type": "markdown",
      "metadata": {
        "id": "W1A4s9L4RGI1"
      },
      "source": [
        "With a difference of < 1%, our implementation does not perform too badly at all!"
      ]
    },
    {
      "cell_type": "markdown",
      "metadata": {
        "id": "BnERsHLCRGI1"
      },
      "source": [
        "## Putting it together"
      ]
    },
    {
      "cell_type": "markdown",
      "metadata": {
        "id": "y2j_nKPwRGI1"
      },
      "source": [
        "Let's wrap this up by collecting all of our class functions into two dedicated classes:"
      ]
    },
    {
      "cell_type": "code",
      "execution_count": null,
      "metadata": {
        "id": "DioHtXEjRGI1"
      },
      "outputs": [],
      "source": [
        "class TreeEnsemble:\n",
        "    # instance attributes\n",
        "    def __init__(\n",
        "        self, X: np.ndarray, y: np.ndarray, n_trees: int, sample_size: int, min_samples_leaf: int = 5,\n",
        "    ):\n",
        "        # use constant random seed for testing\n",
        "        np.random.seed(42)\n",
        "        self.X = X\n",
        "        self.y = y\n",
        "        self.n_trees = n_trees\n",
        "        self.sample_size = sample_size\n",
        "        self.min_samples_leaf = min_samples_leaf\n",
        "\n",
        "        self.trees = [self.create_tree() for i in range(n_trees)]\n",
        "\n",
        "    # instance method\n",
        "    def create_tree(self):\n",
        "        # grab random subsample without replacement - no bootstrapping!\n",
        "        random_indices = np.random.permutation(len(self.y))[: self.sample_size]\n",
        "        return DecisionTree(\n",
        "            self.X.iloc[random_indices], self.y.iloc[random_indices], min_samples_leaf=self.min_samples_leaf,\n",
        "        )\n",
        "\n",
        "    # instance method\n",
        "    def predict(self, X):\n",
        "        return np.mean([t.predict(X) for t in self.trees], axis=0)"
      ]
    },
    {
      "cell_type": "code",
      "execution_count": null,
      "metadata": {
        "id": "D3sjKmuORGI1"
      },
      "outputs": [],
      "source": [
        "class DecisionTree:\n",
        "    def __init__(self, X, y, indices=None, min_samples_leaf=5):\n",
        "        # use all rows for root node\n",
        "        if indices is None:\n",
        "            indices = np.arange(len(y))\n",
        "\n",
        "        self.X = X\n",
        "        self.y = y\n",
        "        self.indices = indices\n",
        "        self.min_samples_leaf = min_samples_leaf\n",
        "\n",
        "        self.n_samples, self.n_features = len(indices), X.shape[1]\n",
        "        self.value = self.calculate_class_probabilities(self.y, self.indices)\n",
        "        self.gini = self.gini_impurity(self.y)\n",
        "        self.score = float(\"inf\")\n",
        "        self.find_feature_split()\n",
        "\n",
        "    def find_feature_split(self):\n",
        "        for i in range(self.n_features):\n",
        "            self.find_better_split(i)\n",
        "\n",
        "        if self.is_leaf:\n",
        "            return\n",
        "\n",
        "        X = self.split_feature\n",
        "        # grab indices for left and right nodes\n",
        "        lhs = np.nonzero(X <= self.split)[0]\n",
        "        rhs = np.nonzero(X > self.split)[0]\n",
        "        # recursively calculate decision trees for all nodes\n",
        "        self.lhs = DecisionTree(self.X, self.y, self.indices[lhs])\n",
        "        self.rhs = DecisionTree(self.X, self.y, self.indices[rhs])\n",
        "\n",
        "    def find_better_split(self, feature_index):\n",
        "        X, y = self.X.values[self.indices, feature_index], self.y.values[self.indices]\n",
        "\n",
        "        sorted_indices = np.argsort(X)\n",
        "        y_sorted, X_sorted = y[sorted_indices], X[sorted_indices]\n",
        "        index = 0\n",
        "\n",
        "        for i in range(0, self.n_samples - self.min_samples_leaf):\n",
        "            index += 1\n",
        "            Xi = X_sorted[i]\n",
        "            # continue if stopping criterion not reached\n",
        "            if i < self.min_samples_leaf - 1 or Xi == X_sorted[i + 1]:\n",
        "                continue\n",
        "\n",
        "            # calculate Gini impurities for left and right nodes\n",
        "            lhs_gini = gini_impurity(self, y_sorted[:index])\n",
        "            rhs_gini = gini_impurity(self, y_sorted[index:])\n",
        "            # calculate score for current split point\n",
        "            curr_score = lhs_gini * len(y_sorted[:index]) / len(y_sorted) + rhs_gini * len(y_sorted[index:]) / len(\n",
        "                y_sorted\n",
        "            )\n",
        "            # update attributes if new score is smaller than old\n",
        "            if curr_score < self.score:\n",
        "                self.feature_index, self.score, self.split, self.gini = (\n",
        "                    feature_index,\n",
        "                    curr_score,\n",
        "                    X_sorted[i],\n",
        "                    gini_impurity(self, y),\n",
        "                )\n",
        "\n",
        "    def calculate_class_probabilities(self, y: pd.Series, indices: np.ndarray):\n",
        "        probs = np.unique(y.iloc[indices], return_counts=True)[1] / len(y.iloc[indices])\n",
        "\n",
        "        # handle edge case when leaf only contains one sample\n",
        "        if len(probs) == 1:\n",
        "            if int(y.iloc[indices].values[0]) == 0:\n",
        "                value = np.array([1.0, 0.0])\n",
        "            else:\n",
        "                value = np.array([0.0, 1.0])\n",
        "        else:\n",
        "            value = probs\n",
        "\n",
        "        return value\n",
        "\n",
        "    def gini_impurity(self, y):\n",
        "        return 1.0 - np.sum((np.unique(y, return_counts=True)[1] / len(y)) ** 2)\n",
        "\n",
        "    def predict(self, X):\n",
        "        return np.array([self.predict_row(Xi) for Xi in X])\n",
        "\n",
        "    def predict_row(self, Xi):\n",
        "        if self.is_leaf:\n",
        "            return self.value\n",
        "        t = self.lhs if Xi[self.feature_index] <= self.split else self.rhs\n",
        "        return t.predict_row(Xi)\n",
        "\n",
        "    @property\n",
        "    def split_name(self):\n",
        "        return self.X.columns[self.feature_index]\n",
        "\n",
        "    @property\n",
        "    def split_feature(self):\n",
        "        return self.X.values[self.indices, self.feature_index]\n",
        "\n",
        "    @property\n",
        "    def is_leaf(self):\n",
        "        return self.score == float(\"inf\")\n",
        "\n",
        "    # convert object to string - see https://dbader.org/blog/python-repr-vs-str\n",
        "    def __repr__(self):\n",
        "        s = f\"n_samples: {self.n_samples}; value: {self.value}; gini: {self.gini}\"\n",
        "        if not self.is_leaf:\n",
        "            s += f\"; score: {self.score}; feature: {self.split_name}; split_point: {self.split}\"\n",
        "        return s"
      ]
    },
    {
      "cell_type": "markdown",
      "metadata": {
        "id": "j63r8bs0RGI2"
      },
      "source": [
        "As a sanity check, let's evaluate the performance on a single tree:"
      ]
    },
    {
      "cell_type": "code",
      "execution_count": null,
      "metadata": {
        "id": "ilheNTQZRGI2",
        "outputId": "14a3a5ed-e789-4831-8de4-f16c29079cd3",
        "colab": {
          "base_uri": "https://localhost:8080/"
        }
      },
      "outputs": [
        {
          "output_type": "execute_result",
          "data": {
            "text/plain": [
              "0.7603031405574215"
            ]
          },
          "metadata": {},
          "execution_count": 58
        }
      ],
      "source": [
        "tree = TreeEnsemble(X_train_sub, y_train, n_trees=1, sample_size=1000).trees[0]\n",
        "X_samp, y_samp = tree.X, tree.y\n",
        "\n",
        "# calculate class probabilities\n",
        "probs = tree.predict(X_valid_sub.values)[:, 1]\n",
        "# evaluate\n",
        "roc_auc_score(y_valid, probs)"
      ]
    },
    {
      "cell_type": "markdown",
      "metadata": {
        "id": "Vgy3vTxCRGI3"
      },
      "source": [
        "This matches our earlier result, so let's now roll-out to a full forest and compare against scikit-learn:"
      ]
    },
    {
      "cell_type": "code",
      "execution_count": null,
      "metadata": {
        "id": "ac790eM8RGI3",
        "outputId": "9c143f11-5595-47dd-c145-0c693327137d",
        "colab": {
          "base_uri": "https://localhost:8080/"
        }
      },
      "outputs": [
        {
          "output_type": "stream",
          "name": "stdout",
          "text": [
            "CPU times: user 21.2 s, sys: 201 ms, total: 21.4 s\n",
            "Wall time: 21.5 s\n"
          ]
        },
        {
          "output_type": "execute_result",
          "data": {
            "text/plain": [
              "0.8309216956906361"
            ]
          },
          "metadata": {},
          "execution_count": 59
        }
      ],
      "source": [
        "%time rf = TreeEnsemble(X_train_sub, y_train, n_trees=5, sample_size=1000)\n",
        "\n",
        "probs = rf.predict(X_valid_sub.values)[:, 1]\n",
        "roc_auc_score(y_valid, probs)"
      ]
    },
    {
      "cell_type": "code",
      "execution_count": null,
      "metadata": {
        "id": "7IdfOtdtRGI3",
        "outputId": "95c00887-d61e-4a9f-8425-52c8e37e1a5d",
        "colab": {
          "base_uri": "https://localhost:8080/"
        }
      },
      "outputs": [
        {
          "output_type": "execute_result",
          "data": {
            "text/plain": [
              "0.7794032635534188"
            ]
          },
          "metadata": {},
          "execution_count": 60
        }
      ],
      "source": [
        "model = RandomForestClassifier(n_estimators=5, bootstrap=False, max_features=None, random_state=42, min_samples_leaf=5)\n",
        "model.fit(X_train_sub, y_train)\n",
        "\n",
        "probs_sklearn = model.predict_proba(X_valid_sub)[:, 1]\n",
        "roc_auc_score(y_valid, probs_sklearn)"
      ]
    },
    {
      "cell_type": "markdown",
      "metadata": {
        "id": "T-yTClx-RGI3"
      },
      "source": [
        "The final results are not the same, but ours did a little better, possibly due to differences in how we average the predictions across trees. In any case, we can be happy that our implementation that we wrote entirely from scratch is competitive with a well tested implementation!"
      ]
    },
    {
      "cell_type": "markdown",
      "metadata": {
        "id": "EjPiwQYtRGI3"
      },
      "source": [
        "## Performance improvements with Cython and Numba"
      ]
    },
    {
      "cell_type": "markdown",
      "metadata": {
        "id": "yYYkLp03RGI4"
      },
      "source": [
        "Although our Random Forest implementation did OK on the ROC AUC score, its runtime performance leaves a lot to be desired. One way we could improve this is by following scikit-learn, who typically implement their algorithms in [Cython](https://cython.org/), which allows you to generate efficient C code from Python. To use Cython in a Jupyter notebook we call the magic function:"
      ]
    },
    {
      "cell_type": "code",
      "execution_count": null,
      "metadata": {
        "id": "j633DxnhRGI5"
      },
      "outputs": [],
      "source": [
        "%load_ext Cython"
      ]
    },
    {
      "cell_type": "markdown",
      "metadata": {
        "id": "IpclNuW1RGI5"
      },
      "source": [
        "and then can compare the pure Python function"
      ]
    },
    {
      "cell_type": "code",
      "execution_count": null,
      "metadata": {
        "id": "aB04yTECRGI5"
      },
      "outputs": [],
      "source": [
        "def fib1(n):\n",
        "    a, b = 0, 1\n",
        "    while b < n:\n",
        "        a, b = b, a + b"
      ]
    },
    {
      "cell_type": "code",
      "execution_count": null,
      "metadata": {
        "id": "luRVe67YRGI6",
        "outputId": "7d612a54-1adb-4fc6-e660-a22942f7c783",
        "colab": {
          "base_uri": "https://localhost:8080/"
        }
      },
      "outputs": [
        {
          "output_type": "stream",
          "name": "stdout",
          "text": [
            "695 ns ± 8.87 ns per loop (mean ± std. dev. of 7 runs, 1000000 loops each)\n"
          ]
        }
      ],
      "source": [
        "%timeit fib1(50)"
      ]
    },
    {
      "cell_type": "markdown",
      "metadata": {
        "id": "72LPE0RZRGI6"
      },
      "source": [
        "against it's compiled version"
      ]
    },
    {
      "cell_type": "code",
      "execution_count": null,
      "metadata": {
        "id": "innXih71RGI6"
      },
      "outputs": [],
      "source": [
        "%%cython\n",
        "def fib2(n):\n",
        "    a, b = 0, 1\n",
        "    while b < n:\n",
        "        a, b = b, a + b"
      ]
    },
    {
      "cell_type": "code",
      "execution_count": null,
      "metadata": {
        "id": "OFqhp_vyRGI7",
        "outputId": "d18cd7eb-cc56-4103-b5ad-ce935eed0dc8",
        "colab": {
          "base_uri": "https://localhost:8080/"
        }
      },
      "outputs": [
        {
          "output_type": "stream",
          "name": "stdout",
          "text": [
            "290 ns ± 5.81 ns per loop (mean ± std. dev. of 7 runs, 1000000 loops each)\n"
          ]
        }
      ],
      "source": [
        "%timeit fib2(50)"
      ]
    },
    {
      "cell_type": "markdown",
      "metadata": {
        "id": "P3vjUyd9RGI7"
      },
      "source": [
        "We can gain even more performance gains by declaring the types explicitly:"
      ]
    },
    {
      "cell_type": "code",
      "execution_count": null,
      "metadata": {
        "id": "21u0TJCyRGI7"
      },
      "outputs": [],
      "source": [
        "%%cython\n",
        "def fib3(int n):\n",
        "    cdef int b = 1\n",
        "    cdef int a = 0\n",
        "    cdef int t = 0\n",
        "    while b < n:\n",
        "        t = a\n",
        "        a = b\n",
        "        b = t + b"
      ]
    },
    {
      "cell_type": "code",
      "execution_count": null,
      "metadata": {
        "id": "9m7INerNRGI7",
        "outputId": "f989821e-85ba-49ef-8ebd-e3098eacbe00",
        "colab": {
          "base_uri": "https://localhost:8080/"
        }
      },
      "outputs": [
        {
          "output_type": "stream",
          "name": "stdout",
          "text": [
            "74.2 ns ± 20.8 ns per loop (mean ± std. dev. of 7 runs, 10000000 loops each)\n"
          ]
        }
      ],
      "source": [
        "%timeit fib3(50)"
      ]
    },
    {
      "cell_type": "markdown",
      "metadata": {
        "id": "vtZHicAzRGI8"
      },
      "source": [
        "In practice, I find that [Numba](http://numba.pydata.org/) provides a powerful alternative to Cython and does away with the need to learn new data types etc. To use Numba one simply needs to import it and add a decorator to your functions:"
      ]
    },
    {
      "cell_type": "code",
      "execution_count": null,
      "metadata": {
        "id": "DWOEXef9RGI8"
      },
      "outputs": [],
      "source": [
        "from numba import njit"
      ]
    },
    {
      "cell_type": "code",
      "execution_count": null,
      "metadata": {
        "id": "sMCRpp9SRGI8"
      },
      "outputs": [],
      "source": [
        "@njit\n",
        "def fib4(n):\n",
        "    a, b = 0, 1\n",
        "    while b < n:\n",
        "        a, b = b, a + b"
      ]
    },
    {
      "cell_type": "code",
      "execution_count": null,
      "metadata": {
        "id": "FW2aC3ILRGI9",
        "outputId": "f22f29be-8e79-4fb9-b16d-556ec61b6b6d",
        "colab": {
          "base_uri": "https://localhost:8080/"
        }
      },
      "outputs": [
        {
          "output_type": "stream",
          "name": "stdout",
          "text": [
            "The slowest run took 26.37 times longer than the fastest. This could mean that an intermediate result is being cached.\n",
            "1.44 µs ± 2.59 µs per loop (mean ± std. dev. of 7 runs, 1 loop each)\n"
          ]
        }
      ],
      "source": [
        "%timeit fib4(50)"
      ]
    },
    {
      "cell_type": "markdown",
      "metadata": {
        "id": "EqKXZWiBRGI9"
      },
      "source": [
        "This is especially useful when working with NumPy functions, consider for example the generation of the Mandelbrot set using NumPy:"
      ]
    },
    {
      "cell_type": "code",
      "execution_count": null,
      "metadata": {
        "id": "8TOanhRaRGI9"
      },
      "outputs": [],
      "source": [
        "# example from - https://ipython-books.github.io/52-accelerating-pure-python-code-with-numba-and-just-in-time-compilation/\n",
        "size = 400\n",
        "iterations = 100\n",
        "\n",
        "\n",
        "def mandelbrot_1(size, iterations):\n",
        "    m = np.zeros((size, size))\n",
        "    for i in range(size):\n",
        "        for j in range(size):\n",
        "            c = -2 + 3.0 / size * j + 1j * (1.5 - 3.0 / size * i)\n",
        "            z = 0\n",
        "            for n in range(iterations):\n",
        "                if np.abs(z) <= 10:\n",
        "                    z = z * z + c\n",
        "                    m[i, j] = n\n",
        "                else:\n",
        "                    break\n",
        "    return m"
      ]
    },
    {
      "cell_type": "code",
      "execution_count": null,
      "metadata": {
        "id": "n43VbhV8RGI9",
        "outputId": "77b4a17a-da91-4422-e134-18c491ae39e9",
        "colab": {
          "base_uri": "https://localhost:8080/",
          "height": 807
        }
      },
      "outputs": [
        {
          "output_type": "display_data",
          "data": {
            "text/plain": [
              "<Figure size 1000x1000 with 1 Axes>"
            ],
            "image/png": "[encoded data removed]"
          },
          "metadata": {}
        }
      ],
      "source": [
        "m = mandelbrot_1(size, iterations)\n",
        "fig, ax = plt.subplots(1, 1, figsize=(10, 10))\n",
        "ax.imshow(np.log(m), cmap=plt.cm.hot)\n",
        "ax.set_axis_off()"
      ]
    },
    {
      "cell_type": "code",
      "execution_count": null,
      "metadata": {
        "id": "FyDPIFGiRGI9"
      },
      "outputs": [],
      "source": [
        "%timeit mandelbrot_1(size, iterations)"
      ]
    },
    {
      "cell_type": "markdown",
      "metadata": {
        "id": "4AhmATIvRGI9"
      },
      "source": [
        "Adding `@njit` as a decorator gives a 300x speedup!"
      ]
    },
    {
      "cell_type": "code",
      "execution_count": null,
      "metadata": {
        "id": "xbnM0xCURGI-"
      },
      "outputs": [],
      "source": [
        "@njit\n",
        "def mandelbrot_2(size, iterations):\n",
        "    m = np.zeros((size, size))\n",
        "    for i in range(size):\n",
        "        for j in range(size):\n",
        "            c = -2 + 3.0 / size * j + 1j * (1.5 - 3.0 / size * i)\n",
        "            z = 0\n",
        "            for n in range(iterations):\n",
        "                if np.abs(z) <= 10:\n",
        "                    z = z * z + c\n",
        "                    m[i, j] = n\n",
        "                else:\n",
        "                    break\n",
        "    return m"
      ]
    },
    {
      "cell_type": "code",
      "execution_count": null,
      "metadata": {
        "id": "h6QMxzQDRGI-",
        "outputId": "c947c31d-e884-41ca-c232-7a05e6d81399"
      },
      "outputs": [
        {
          "name": "stdout",
          "output_type": "stream",
          "text": [
            "16.6 ms ± 206 µs per loop (mean ± std. dev. of 7 runs, 100 loops each)\n"
          ]
        }
      ],
      "source": [
        "%timeit mandelbrot_2(size, iterations)"
      ]
    },
    {
      "cell_type": "markdown",
      "metadata": {
        "id": "Step0OIcRGI-"
      },
      "source": [
        "## Exercises\n",
        "\n",
        "* An alternative measure of impurity is the so-called Shannon entropy, which measures the average information content of a message. In the context of classification, a set's entropy is zero when it contains examples of only one class. Use the definition of entropy\n",
        "$$ H_i = \\sum_{k=1}^n p_{i,k} \\log p_{i,k} $$\n",
        "to extend our `DecisionTree` class with a new `criterion` hyperparameter that allows one to use Gini impurity or entropy as a measure of a node's impurity.\n",
        "* In our implementation of `TreeEnsemble` we use all the features at every node to find the best split point. Extend the functionality by introducing a `max_features` hyperparameter that controls the number of features used at every node in a manner similar to scikit-learn."
      ]
    },
    {
      "cell_type": "code",
      "execution_count": null,
      "metadata": {
        "id": "ISg79l7dRGI-"
      },
      "outputs": [],
      "source": []
    }
  ],
  "metadata": {
    "kernelspec": {
      "display_name": "Python 3",
      "language": "python",
      "name": "python3"
    },
    "colab": {
      "provenance": []
    }
  },
  "nbformat": 4,
  "nbformat_minor": 0
}